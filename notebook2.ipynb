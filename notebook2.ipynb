{
 "cells": [
  {
   "cell_type": "code",
   "execution_count": 1,
   "metadata": {},
   "outputs": [],
   "source": [
    "from IPython.display import clear_output\n",
    "from copy import copy,deepcopy \n",
    "import numpy as np \n",
    "import matplotlib.pyplot as plt \n",
    "import pandas as pd\n",
    "from Path import *\n",
    "from CustomKnot import CustomKnot\n",
    "from CustomDatabase import *\n",
    "from KnotStar import *\n",
    "from random import *\n",
    "from KnotGA import *\n",
    "from KnotAnt import *\n",
    "from X import X\n",
    "np.set_printoptions(threshold=np.inf,linewidth=np.inf,nanstr=\"n\")\n",
    "pd.options.display.max_colwidth = 100\n",
    "import timeit"
   ]
  },
  {
   "cell_type": "code",
   "execution_count": 5,
   "metadata": {},
   "outputs": [
    {
     "name": "stdout",
     "output_type": "stream",
     "text": [
      "k4_1_1==k4_1_2 True\n",
      "k4_1_2==k4_1_3 False\n",
      "k4_1_1==k4_1_3 False\n",
      "areSameKnotsAStar3(k4_1_1,k4_1_2): (True, [''], [''])\n",
      "Time:  0.0013709068298339844\n",
      "areSameKnotsAStar3(k4_1_2,k4_1_3): (True, [], ['reidemeisterIII(1,5,9,check=False)', 'undoALoop(10)'])\n",
      "Time:  1.3260462284088135\n",
      "areSameKnotsAStar3(k4_1_1,k4_1_3): (True, [], ['reidemeisterIII(1,5,9,check=False)', 'undoALoop(10)'])\n",
      "Time:  1.2348659038543701\n",
      "areSameKnotsAStar3(k4_1_2,k4_1_1): (True, [''], [''])\n",
      "Time:  0.0003249645233154297\n",
      "areSameKnotsAStar3(k4_1_3,k4_1_2): (True, ['reidemeisterIII(1,5,9,check=False)'], ['createALoop(3,3)'])\n",
      "Time:  0.8143560886383057\n",
      "areSameKnotsAStar3(k4_1_3,k4_1_1): (True, ['reidemeisterIII(1,5,9,check=False)'], ['createALoop(3,2)'])\n",
      "Time:  0.9393651485443115\n"
     ]
    }
   ],
   "source": [
    "#Tres proyecciones del nudo figura en 8 \n",
    "k4_1_1 = CustomKnot([X(3,8,2,7),X(7,4,6,3),X(8,6,1,5),X(5,1,4,2)])\n",
    "k4_1_2 = CustomKnot([X(6,8,5,1),X(7,2,8,3),X(3,6,4,7),X(2,4,1,5)])\n",
    "k4_1_3 = CustomKnot([X(2,8,1,9),X(7,3,8,2),X(4,6,3,7),X(4,9,5,10),X(10,5,1,6)])\n",
    "print(\"k4_1_1==k4_1_2\",k4_1_1==k4_1_2)\n",
    "print(\"k4_1_2==k4_1_3\",k4_1_2==k4_1_3)\n",
    "print(\"k4_1_1==k4_1_3\",k4_1_1==k4_1_3)\n",
    "start = time()\n",
    "print(\"areSameKnotsAStar3(k4_1_1,k4_1_2):\",areSameKnotsAStar3(k4_1_1,k4_1_2))\n",
    "print(\"Time: \",time()-start)\n",
    "start = time()\n",
    "print(\"areSameKnotsAStar3(k4_1_2,k4_1_3):\",areSameKnotsAStar3(k4_1_2,k4_1_3))\n",
    "print(\"Time: \",time()-start)\n",
    "start = time()\n",
    "print(\"areSameKnotsAStar3(k4_1_1,k4_1_3):\",areSameKnotsAStar3(k4_1_1,k4_1_3))\n",
    "print(\"Time: \",time()-start)\n",
    "start = time()\n",
    "print(\"areSameKnotsAStar3(k4_1_2,k4_1_1):\",areSameKnotsAStar3(k4_1_2,k4_1_1))\n",
    "print(\"Time: \",time()-start)\n",
    "start = time()\n",
    "print(\"areSameKnotsAStar3(k4_1_3,k4_1_2):\",areSameKnotsAStar3(k4_1_3,k4_1_2))\n",
    "print(\"Time: \",time()-start)\n",
    "start = time()\n",
    "print(\"areSameKnotsAStar3(k4_1_3,k4_1_1):\",areSameKnotsAStar3(k4_1_3,k4_1_1))\n",
    "print(\"Time: \",time()-start)"
   ]
  },
  {
   "cell_type": "code",
   "execution_count": 22,
   "metadata": {},
   "outputs": [
    {
     "name": "stdout",
     "output_type": "stream",
     "text": [
      "iteración 1 len(s) 1\n",
      "iteración 2 len(s) 2\n",
      "iteración 3 len(s) 3\n",
      "iteración 4 len(s) 3\n",
      "iteración 5 len(s) 3\n",
      "iteración 6 len(s) 3\n",
      "iteración 7 len(s) 3\n",
      "iteración 8 len(s) 3\n",
      "iteración 9 len(s) 3\n",
      "iteración 10 len(s) 3\n",
      "iteración 11 len(s) 4\n",
      "iteración 12 len(s) 4\n",
      "iteración 13 len(s) 4\n",
      "iteración 14 len(s) 4\n",
      "iteración 15 len(s) 4\n",
      "iteración 16 len(s) 4\n",
      "iteración 17 len(s) 5\n"
     ]
    }
   ],
   "source": [
    "k = knotFromPyknotid(\"4_1\")\n",
    "times = []\n",
    "s = set()\n",
    "i=0\n",
    "while len(s) < 5:\n",
    "    k1 = deepcopy(k)\n",
    "    #k2 = deepcopy(k)\n",
    "    k1.randomMovN(1000,20)\n",
    "    #k2.randomMovN(1000,20)\n",
    "    k1.reduceUnnecessaryMov()\n",
    "    #k2.reduceUnnecessaryMov()\n",
    "    #if k1 == k2:\n",
    "    #    print(\"Are equal\")\n",
    "    #    continue\n",
    "    i+=1\n",
    "    s.add(k1)\n",
    "    #print(k1.crosses)\n",
    "    #print(k2.crosses)\n",
    "    #start = time()\n",
    "    #print(areSameKnotsAStar(k1,k2))\n",
    "    #t1 = time()-start\n",
    "    #print(\"Time:\",t1)\n",
    "    #print(areSameKnotsAStar(k2,k1))\n",
    "    #t2 = time()-start\n",
    "    #print(\"Time:\",t2)\n",
    "    #times.append((t1,t2))\n",
    "    print(\"iteración\",i,\"len(s)\",len(s))"
   ]
  },
  {
   "cell_type": "code",
   "execution_count": 24,
   "metadata": {},
   "outputs": [
    {
     "name": "stdout",
     "output_type": "stream",
     "text": [
      "5\n"
     ]
    }
   ],
   "source": [
    "print(len(s))"
   ]
  },
  {
   "cell_type": "code",
   "execution_count": 41,
   "metadata": {},
   "outputs": [
    {
     "name": "stdout",
     "output_type": "stream",
     "text": [
      "[[X(1,4,10,3), X(1,7,2,6), X(4,9,5,10), X(7,3,8,2), X(8,5,9,6)], [X(1,7,2,6), X(3,8,4,1), X(5,3,6,2), X(7,4,8,5)], [X(1,7,2,6), X(4,9,5,10), X(5,3,6,2), X(7,1,8,10), X(8,3,9,4)], [X(3,9,4,8), X(5,12,6,1), X(6,9,7,10), X(7,3,8,2), X(10,2,11,1), X(11,4,12,5)], [X(1,6,2,7), X(2,13,3,14), X(3,9,4,8), X(4,12,5,11), X(7,14,8,1), X(10,6,11,5), X(12,9,13,10)]]\n"
     ]
    }
   ],
   "source": [
    "knots = list(s)\n",
    "print([k.crosses for k in knots])"
   ]
  },
  {
   "cell_type": "code",
   "execution_count": 2,
   "metadata": {},
   "outputs": [],
   "source": [
    "knots = [CustomKnot([X(1,4,10,3), X(1,7,2,6), X(4,9,5,10), X(7,3,8,2), X(8,5,9,6)]), \n",
    "         CustomKnot([X(1,7,2,6), X(3,8,4,1), X(5,3,6,2), X(7,4,8,5)]), \n",
    "         CustomKnot([X(1,7,2,6), X(4,9,5,10), X(5,3,6,2), X(7,1,8,10), X(8,3,9,4)]), \n",
    "         CustomKnot([X(3,9,4,8), X(5,12,6,1), X(6,9,7,10), X(7,3,8,2), X(10,2,11,1), X(11,4,12,5)]), \n",
    "         CustomKnot([X(1,6,2,7), X(2,13,3,14), X(3,9,4,8), X(4,12,5,11), X(7,14,8,1), X(10,6,11,5), X(12,9,13,10)])]"
   ]
  },
  {
   "cell_type": "code",
   "execution_count": 3,
   "metadata": {},
   "outputs": [
    {
     "data": {
      "text/plain": [
       "20"
      ]
     },
     "execution_count": 3,
     "metadata": {},
     "output_type": "execute_result"
    }
   ],
   "source": [
    "knots_copy = deepcopy(knots)\n",
    "s = set()\n",
    "for i in range(len(knots_copy)):\n",
    "    k1 = knots_copy[i]\n",
    "    s.add(k1)\n",
    "len(s) * (len(s)-1)\n"
   ]
  },
  {
   "cell_type": "code",
   "execution_count": 4,
   "metadata": {},
   "outputs": [
    {
     "name": "stdout",
     "output_type": "stream",
     "text": [
      "10\n"
     ]
    }
   ],
   "source": [
    "knots_copy = deepcopy(list(s))\n",
    "knotsDict:dict[str,dict[str,tuple[CustomKnot,CustomKnot]]] = dict()\n",
    "alpa=0\n",
    "for i in range(len(knots_copy)):\n",
    "    k1 = knots_copy[i]\n",
    "    r1 = k1.representationForHash\n",
    "    if r1 in knotsDict:\n",
    "        continue\n",
    "    knotsDict[r1] = dict()\n",
    "    for j in range(i+1,len(knots_copy)):\n",
    "        k2 = knots_copy[j]\n",
    "        r2 = k2.representationForHash\n",
    "        if r2 in knotsDict[r1]:\n",
    "            continue\n",
    "        alpa+=1\n",
    "        knotsDict[r1][r2] = (k1,k2)\n",
    "print(alpa)\n"
   ]
  },
  {
   "cell_type": "code",
   "execution_count": 5,
   "metadata": {},
   "outputs": [
    {
     "name": "stdout",
     "output_type": "stream",
     "text": [
      "10\n"
     ]
    }
   ],
   "source": [
    "i= 0\n",
    "for d in knotsDict:\n",
    "    di = knotsDict[d]\n",
    "\n",
    "    for t in di:\n",
    "        k1, k2 = di[t]\n",
    "        if k1== k2:\n",
    "            print(k1.representationForHash)\n",
    "            print(k1.crosses)\n",
    "            print(k2.representationForHash)\n",
    "            print(k2.crosses)\n",
    "            continue\n",
    "        i+=1\n",
    "\n",
    "print(i)"
   ]
  },
  {
   "cell_type": "code",
   "execution_count": 6,
   "metadata": {},
   "outputs": [
    {
     "name": "stdout",
     "output_type": "stream",
     "text": [
      "---\n",
      "[X(1,7,2,6), X(4,9,5,10), X(5,3,6,2), X(7,1,8,10), X(8,3,9,4)]\n",
      "[X(1,4,10,3), X(1,7,2,6), X(4,9,5,10), X(7,3,8,2), X(8,5,9,6)]\n",
      "(True, ['reidemeisterIII(5,9,3,check=False)', 'undoALoop(4)', 'createALoop(1,0)', 'reidemeisterIII(3,7,1,check=False)'])\n",
      "Time: 106.82925605773926\n",
      "(True, ['reidemeisterIII(1,7,3,check=False)', 'createALoop(8,0)', 'undoALoop(2)', 'createALoop(10,0)', 'undoALoop(7)', 'createALoop(3,2)', 'reidemeisterIII(3,9,5,check=False)', 'undoALoop(1)'])\n",
      "Time: 188.9012861251831\n",
      "---\n",
      "[X(1,7,2,6), X(4,9,5,10), X(5,3,6,2), X(7,1,8,10), X(8,3,9,4)]\n",
      "[X(1,6,2,7), X(2,13,3,14), X(3,9,4,8), X(4,12,5,11), X(7,14,8,1), X(10,6,11,5), X(12,9,13,10)]\n",
      "(False, [])\n",
      "Time: 300.0285279750824\n",
      "(True, ['reidemeisterIII(3,13,9,check=False)', 'undoReidemeisterII(4,12)', 'reidemeisterIII(2,8,4,check=False)', 'createALoop(9,0)', 'undoALoop(3)', 'createALoop(1,0)', 'undoALoop(10)', 'createALoop(6,2)', 'reidemeisterIII(6,12,8,check=False)', 'undoALoop(2)'])\n",
      "Time: 189.58968901634216\n",
      "---\n",
      "[X(1,7,2,6), X(4,9,5,10), X(5,3,6,2), X(7,1,8,10), X(8,3,9,4)]\n",
      "[X(3,9,4,8), X(5,12,6,1), X(6,9,7,10), X(7,3,8,2), X(10,2,11,1), X(11,4,12,5)]\n",
      "(True, ['createALoop(6,1)', 'reidemeisterIII(6,2,8,check=False)'])\n",
      "Time: 11.258171796798706\n",
      "(True, ['reidemeisterIII(7,3,9,check=False)', 'undoALoop(8)'])\n",
      "Time: 20.479964017868042\n",
      "---\n",
      "[X(1,7,2,6), X(4,9,5,10), X(5,3,6,2), X(7,1,8,10), X(8,3,9,4)]\n",
      "[X(1,7,2,6), X(3,8,4,1), X(5,3,6,2), X(7,4,8,5)]\n",
      "(True, ['reidemeisterIII(5,9,3,check=False)', 'undoALoop(4)'])\n",
      "Time: 0.888909101486206\n",
      "(True, ['createALoop(4,2)', 'reidemeisterIII(4,10,6,check=False)'])\n",
      "Time: 30.464625120162964\n",
      "---\n",
      "[X(1,4,10,3), X(1,7,2,6), X(4,9,5,10), X(7,3,8,2), X(8,5,9,6)]\n",
      "[X(1,6,2,7), X(2,13,3,14), X(3,9,4,8), X(4,12,5,11), X(7,14,8,1), X(10,6,11,5), X(12,9,13,10)]\n",
      "(True, ['createReidemeisterII(1,9,0,4)', 'reidemeisterIII(3,11,8,check=False)'])\n",
      "Time: 2.660764217376709\n",
      "(True, ['reidemeisterIII(4,12,9,check=False)', 'undoReidemeisterII(3,13)'])\n",
      "Time: 3.6437129974365234\n",
      "---\n",
      "[X(1,4,10,3), X(1,7,2,6), X(4,9,5,10), X(7,3,8,2), X(8,5,9,6)]\n",
      "[X(3,9,4,8), X(5,12,6,1), X(6,9,7,10), X(7,3,8,2), X(10,2,11,1), X(11,4,12,5)]\n",
      "(True, ['createReidemeisterII(3,5,1,4)', 'reidemeisterIII(7,14,5,check=False)', 'undoALoop(6)'])\n",
      "Time: 218.82186913490295\n",
      "(True, ['reidemeisterIII(11,5,1,check=False)', 'undoALoop(1)'])\n",
      "Time: 6.913171052932739\n",
      "---\n",
      "[X(1,4,10,3), X(1,7,2,6), X(4,9,5,10), X(7,3,8,2), X(8,5,9,6)]\n",
      "[X(1,7,2,6), X(3,8,4,1), X(5,3,6,2), X(7,4,8,5)]\n",
      "(True, ['reidemeisterIII(1,7,3,check=False)', 'undoALoop(2)'])\n",
      "Time: 0.8808400630950928\n",
      "(True, ['createALoop(2,1)', 'reidemeisterIII(2,8,4,check=False)'])\n",
      "Time: 16.06248116493225\n",
      "---\n",
      "[X(1,6,2,7), X(2,13,3,14), X(3,9,4,8), X(4,12,5,11), X(7,14,8,1), X(10,6,11,5), X(12,9,13,10)]\n",
      "[X(3,9,4,8), X(5,12,6,1), X(6,9,7,10), X(7,3,8,2), X(10,2,11,1), X(11,4,12,5)]\n",
      "(True, ['reidemeisterIII(4,12,9,check=False)', 'undoReidemeisterII(3,13)', 'createReidemeisterII(4,6,1,4)', 'reidemeisterIII(8,1,6,check=False)', 'undoALoop(7)'])\n",
      "Time: 220.17328786849976\n",
      "(False, [])\n",
      "Time: 300.02985072135925\n",
      "---\n",
      "[X(1,6,2,7), X(2,13,3,14), X(3,9,4,8), X(4,12,5,11), X(7,14,8,1), X(10,6,11,5), X(12,9,13,10)]\n",
      "[X(1,7,2,6), X(3,8,4,1), X(5,3,6,2), X(7,4,8,5)]\n",
      "(True, ['reidemeisterIII(2,7,14,check=False)', 'undoReidemeisterII(3,8)', 'undoALoop(1)'])\n",
      "Time: 3.9308249950408936\n",
      "(True, ['createReidemeisterII(1,4,0,2)', 'createALoop(1,0)', 'reidemeisterIII(3,8,1,check=False)'])\n",
      "Time: 3.8028388023376465\n",
      "---\n",
      "[X(3,9,4,8), X(5,12,6,1), X(6,9,7,10), X(7,3,8,2), X(10,2,11,1), X(11,4,12,5)]\n",
      "[X(1,7,2,6), X(3,8,4,1), X(5,3,6,2), X(7,4,8,5)]\n",
      "(True, ['reidemeisterIII(6,10,1,check=False)', 'undoReidemeisterII(2,7)'])\n",
      "Time: 2.2708630561828613\n",
      "(True, ['createReidemeisterII(3,8,1,2)', 'reidemeisterIII(10,7,3,check=False)'])\n",
      "Time: 1.6051020622253418\n"
     ]
    }
   ],
   "source": [
    "timesDict:dict[str,dict[str,tuple[float,float]]] = dict()\n",
    "for d in knotsDict:\n",
    "    di = knotsDict[d]\n",
    "\n",
    "    for t in di:\n",
    "        k1, k2 = di[t]\n",
    "        if k1!= k2:\n",
    "            print(\"---\")\n",
    "            print(k1.crosses)\n",
    "            print(k2.crosses)\n",
    "            start = time()\n",
    "            print(areSameKnotsAStar(k1,k2,timeLimit=300))\n",
    "            t1 = time()-start\n",
    "            print(\"Time:\",t1)\n",
    "            start = time()\n",
    "            print(areSameKnotsAStar(k2,k1,timeLimit=300))\n",
    "            t2 = time()-start\n",
    "            print(\"Time:\",t2)\n",
    "            if not k1.representationForHash in timesDict:\n",
    "                timesDict[k1.representationForHash] = dict()\n",
    "            timesDict[k1.representationForHash][k2.representationForHash]= (t1,t2)"
   ]
  },
  {
   "cell_type": "code",
   "execution_count": 7,
   "metadata": {},
   "outputs": [
    {
     "name": "stdout",
     "output_type": "stream",
     "text": [
      "---\n",
      "[X(1,7,2,6), X(4,9,5,10), X(5,3,6,2), X(7,1,8,10), X(8,3,9,4)]\n",
      "[X(1,4,10,3), X(1,7,2,6), X(4,9,5,10), X(7,3,8,2), X(8,5,9,6)]\n",
      "(True, ['reidemeisterIII(5,9,3,check=False)', 'createALoop(7,3)', 'undoALoop(4)'], ['createALoop(3,1)', 'reidemeisterIII(10,2,8,check=False)', 'undoALoop(9)', 'createALoop(7,1)', 'undoALoop(4)', 'createALoop(2,3)', 'undoALoop(8)'])\n",
      "Time: 86.54541206359863\n",
      "(True, ['reidemeisterIII(1,7,3,check=False)', 'createALoop(8,0)', 'undoALoop(2)', 'createALoop(10,0)', 'undoALoop(7)'], ['reidemeisterIII(5,9,3,check=False)', 'createALoop(8,1)', 'undoALoop(4)'])\n",
      "Time: 38.835792779922485\n",
      "---\n",
      "[X(1,7,2,6), X(4,9,5,10), X(5,3,6,2), X(7,1,8,10), X(8,3,9,4)]\n",
      "[X(1,6,2,7), X(2,13,3,14), X(3,9,4,8), X(4,12,5,11), X(7,14,8,1), X(10,6,11,5), X(12,9,13,10)]\n",
      "(False, [], [])\n",
      "Time: 300.04191994667053\n",
      "(False, [], [])\n",
      "Time: 300.03907203674316\n",
      "---\n",
      "[X(1,7,2,6), X(4,9,5,10), X(5,3,6,2), X(7,1,8,10), X(8,3,9,4)]\n",
      "[X(3,9,4,8), X(5,12,6,1), X(6,9,7,10), X(7,3,8,2), X(10,2,11,1), X(11,4,12,5)]\n",
      "(True, [], ['reidemeisterIII(7,3,9,check=False)', 'undoALoop(8)'])\n",
      "Time: 2.3599517345428467\n",
      "(True, ['reidemeisterIII(7,3,9,check=False)', 'undoALoop(8)'], [])\n",
      "Time: 9.39513087272644\n",
      "---\n",
      "[X(1,7,2,6), X(4,9,5,10), X(5,3,6,2), X(7,1,8,10), X(8,3,9,4)]\n",
      "[X(1,7,2,6), X(3,8,4,1), X(5,3,6,2), X(7,4,8,5)]\n",
      "(True, ['reidemeisterIII(5,9,3,check=False)'], ['createALoop(4,2)'])\n",
      "Time: 0.41227006912231445\n",
      "(True, ['createALoop(2,1)', 'createALoop(10,2)'], ['reidemeisterIII(5,9,3,check=False)', 'createALoop(1,0)'])\n",
      "Time: 1.2173771858215332\n",
      "---\n",
      "[X(1,4,10,3), X(1,7,2,6), X(4,9,5,10), X(7,3,8,2), X(8,5,9,6)]\n",
      "[X(1,6,2,7), X(2,13,3,14), X(3,9,4,8), X(4,12,5,11), X(7,14,8,1), X(10,6,11,5), X(12,9,13,10)]\n",
      "(True, ['createReidemeisterII(1,9,0,4)'], ['reidemeisterIII(4,12,9,check=False)'])\n",
      "Time: 1.4852159023284912\n",
      "(True, ['reidemeisterIII(4,12,9,check=False)'], ['createReidemeisterII(1,9,0,4)'])\n",
      "Time: 1.4774401187896729\n",
      "---\n",
      "[X(1,4,10,3), X(1,7,2,6), X(4,9,5,10), X(7,3,8,2), X(8,5,9,6)]\n",
      "[X(3,9,4,8), X(5,12,6,1), X(6,9,7,10), X(7,3,8,2), X(10,2,11,1), X(11,4,12,5)]\n",
      "(True, [], ['reidemeisterIII(11,5,1,check=False)', 'undoALoop(1)'])\n",
      "Time: 2.3241360187530518\n",
      "(True, [], ['createALoop(4,3)', 'reidemeisterIII(6,12,4,check=False)'])\n",
      "Time: 52.088600873947144\n",
      "---\n",
      "[X(1,4,10,3), X(1,7,2,6), X(4,9,5,10), X(7,3,8,2), X(8,5,9,6)]\n",
      "[X(1,7,2,6), X(3,8,4,1), X(5,3,6,2), X(7,4,8,5)]\n",
      "(True, ['reidemeisterIII(1,7,3,check=False)'], ['createALoop(2,1)'])\n",
      "Time: 0.38262414932250977\n",
      "(True, [], ['reidemeisterIII(1,7,3,check=False)', 'undoALoop(2)'])\n",
      "Time: 1.2162318229675293\n",
      "---\n",
      "[X(1,6,2,7), X(2,13,3,14), X(3,9,4,8), X(4,12,5,11), X(7,14,8,1), X(10,6,11,5), X(12,9,13,10)]\n",
      "[X(3,9,4,8), X(5,12,6,1), X(6,9,7,10), X(7,3,8,2), X(10,2,11,1), X(11,4,12,5)]\n",
      "(True, ['reidemeisterIII(4,12,9,check=False)', 'reidemeisterIII(11,5,9,check=False)', 'undoALoop(10)'], ['createALoop(12,1)', 'reidemeisterIII(12,5,14,check=False)', 'reidemeisterIII(7,3,9,check=False)', 'undoALoop(8)'])\n",
      "Time: 35.429439306259155\n",
      "(True, ['createALoop(6,3)', 'reidemeisterIII(9,12,2,check=False)', 'undoALoop(7)', 'createALoop(8,0)', 'undoReidemeisterII(1,6)'], ['reidemeisterIII(2,7,14,check=False)', 'undoALoop(1)', 'createALoop(10,1)', 'undoReidemeisterII(1,6)'])\n",
      "Time: 17.824833154678345\n",
      "---\n",
      "[X(1,6,2,7), X(2,13,3,14), X(3,9,4,8), X(4,12,5,11), X(7,14,8,1), X(10,6,11,5), X(12,9,13,10)]\n",
      "[X(1,7,2,6), X(3,8,4,1), X(5,3,6,2), X(7,4,8,5)]\n",
      "(True, ['reidemeisterIII(2,7,14,check=False)', 'undoALoop(1)'], ['createReidemeisterII(1,4,0,2)'])\n",
      "Time: 2.6519949436187744\n",
      "(True, ['createReidemeisterII(1,4,0,2)', 'createALoop(1,0)'], ['reidemeisterIII(2,7,14,check=False)'])\n",
      "Time: 1.276338815689087\n",
      "---\n",
      "[X(3,9,4,8), X(5,12,6,1), X(6,9,7,10), X(7,3,8,2), X(10,2,11,1), X(11,4,12,5)]\n",
      "[X(1,7,2,6), X(3,8,4,1), X(5,3,6,2), X(7,4,8,5)]\n",
      "(True, ['reidemeisterIII(6,10,1,check=False)'], ['createReidemeisterII(2,7,1,2)'])\n",
      "Time: 0.9583301544189453\n",
      "(True, ['createReidemeisterII(3,8,1,2)'], ['reidemeisterIII(7,10,2,check=False)'])\n",
      "Time: 0.8814699649810791\n"
     ]
    }
   ],
   "source": [
    "timesDict2:dict[str,dict[str,tuple[float,float]]] = dict()\n",
    "for d in knotsDict:\n",
    "    di = knotsDict[d]\n",
    "\n",
    "    for t in di:\n",
    "        k1, k2 = di[t]\n",
    "        if k1!= k2:\n",
    "            print(\"---\")\n",
    "            print(k1.crosses)\n",
    "            print(k2.crosses)\n",
    "            start = time()\n",
    "            print(areSameKnots2(k1,k2,timeLimit=300))\n",
    "            t1 = time()-start\n",
    "            print(\"Time:\",t1)\n",
    "            start = time()\n",
    "            print(areSameKnots2(k2,k1,timeLimit=300))\n",
    "            t2 = time()-start\n",
    "            print(\"Time:\",t2)\n",
    "            if not k1.representationForHash in timesDict2:\n",
    "                timesDict2[k1.representationForHash] = dict()\n",
    "            timesDict2[k1.representationForHash][k2.representationForHash]= (t1,t2)"
   ]
  },
  {
   "cell_type": "code",
   "execution_count": 9,
   "metadata": {},
   "outputs": [
    {
     "name": "stdout",
     "output_type": "stream",
     "text": [
      "106.83 , 188.90\n",
      "300.03 , 189.59\n",
      "11.26 , 20.48\n",
      "0.89 , 30.46\n",
      "2.66 , 3.64\n",
      "218.82 , 6.91\n",
      "0.88 , 16.06\n",
      "220.17 , 300.03\n",
      "3.93 , 3.80\n",
      "2.27 , 1.61\n",
      "ZeroPass:  0    ,onePass:  2    ,twoPass:  8\n",
      "10\n"
     ]
    }
   ],
   "source": [
    "zeroPass = 0\n",
    "onePass = 0\n",
    "twoPass = 0\n",
    "for d in timesDict:\n",
    "    di = timesDict[d]\n",
    "    for t in di:\n",
    "        t1, t2 = di[t]\n",
    "        if t1>300 and t2>300:\n",
    "            zeroPass+=1\n",
    "        elif t1<300 and t2<300:\n",
    "            twoPass+=1\n",
    "        else:\n",
    "            onePass+=1\n",
    "        print(\"{:3.2f} , {:3.2f}\".format(t1,t2))\n",
    "print(\"ZeroPass: \",zeroPass,\"   ,onePass: \",onePass, \"   ,twoPass: \",twoPass)\n",
    "print(i)"
   ]
  },
  {
   "cell_type": "code",
   "execution_count": 10,
   "metadata": {},
   "outputs": [
    {
     "name": "stdout",
     "output_type": "stream",
     "text": [
      "86.55 , 38.84\n",
      "300.04 , 300.04\n",
      "2.36 , 9.40\n",
      "0.41 , 1.22\n",
      "1.49 , 1.48\n",
      "2.32 , 52.09\n",
      "0.38 , 1.22\n",
      "35.43 , 17.82\n",
      "2.65 , 1.28\n",
      "0.96 , 0.88\n",
      "ZeroPass:  1    ,onePass:  0    ,twoPass:  9\n",
      "10\n"
     ]
    }
   ],
   "source": [
    "zeroPass = 0\n",
    "onePass = 0\n",
    "twoPass = 0\n",
    "for d in timesDict2:\n",
    "    di = timesDict2[d]\n",
    "    for t in di:\n",
    "        t1, t2 = di[t]\n",
    "        if t1>300 and t2>300:\n",
    "            zeroPass+=1\n",
    "        elif t1<300 and t2<300:\n",
    "            twoPass+=1\n",
    "        else:\n",
    "            onePass+=1\n",
    "        print(\"{:3.2f} , {:3.2f}\".format(t1,t2))\n",
    "print(\"ZeroPass: \",zeroPass,\"   ,onePass: \",onePass, \"   ,twoPass: \",twoPass)\n",
    "print(i)"
   ]
  },
  {
   "cell_type": "code",
   "execution_count": 2,
   "metadata": {},
   "outputs": [
    {
     "name": "stdout",
     "output_type": "stream",
     "text": [
      "k4_1_1==k4_1_2 True\n",
      "k4_1_2==k4_1_3 False\n",
      "k4_1_1==k4_1_3 False\n",
      "areSameKnotsAStar(k4_1_1,k4_1_2): (True, [''])\n",
      "Time:  0.0008687973022460938\n",
      "areSameKnotsAStar(k4_1_2,k4_1_3): (True, ['createALoop(3,3)', 'reidemeisterIII(5,9,3,check=False)'])\n",
      "Time:  6.867511987686157\n",
      "areSameKnotsAStar(k4_1_1,k4_1_3): (True, ['createALoop(3,2)', 'reidemeisterIII(3,9,5,check=False)'])\n",
      "Time:  6.79719614982605\n",
      "areSameKnotsAStar(k4_1_2,k4_1_1): (True, [''])\n",
      "Time:  0.0004360675811767578\n",
      "areSameKnotsAStar(k4_1_3,k4_1_2): (True, ['reidemeisterIII(1,5,9,check=False)', 'undoALoop(10)'])\n",
      "Time:  0.9251291751861572\n",
      "areSameKnotsAStar(k4_1_3,k4_1_1): (True, ['reidemeisterIII(1,5,9,check=False)', 'undoALoop(10)'])\n",
      "Time:  0.8873059749603271\n"
     ]
    }
   ],
   "source": [
    "#Tres proyecciones del nudo figura en 8 \n",
    "k4_1_1 = CustomKnot([X(3,8,2,7),X(7,4,6,3),X(8,6,1,5),X(5,1,4,2)])\n",
    "k4_1_2 = CustomKnot([X(6,8,5,1),X(7,2,8,3),X(3,6,4,7),X(2,4,1,5)])\n",
    "k4_1_3 = CustomKnot([X(2,8,1,9),X(7,3,8,2),X(4,6,3,7),X(4,9,5,10),X(10,5,1,6)])\n",
    "print(\"k4_1_1==k4_1_2\",k4_1_1==k4_1_2)\n",
    "print(\"k4_1_2==k4_1_3\",k4_1_2==k4_1_3)\n",
    "print(\"k4_1_1==k4_1_3\",k4_1_1==k4_1_3)\n",
    "start = time()\n",
    "print(\"areSameKnotsAStar(k4_1_1,k4_1_2):\",areSameKnotsAStar(k4_1_1,k4_1_2))\n",
    "print(\"Time: \",time()-start)\n",
    "start = time()\n",
    "print(\"areSameKnotsAStar(k4_1_2,k4_1_3):\",areSameKnotsAStar(k4_1_2,k4_1_3))\n",
    "print(\"Time: \",time()-start)\n",
    "start = time()\n",
    "print(\"areSameKnotsAStar(k4_1_1,k4_1_3):\",areSameKnotsAStar(k4_1_1,k4_1_3))\n",
    "print(\"Time: \",time()-start)\n",
    "start = time()\n",
    "print(\"areSameKnotsAStar(k4_1_2,k4_1_1):\",areSameKnotsAStar(k4_1_2,k4_1_1))\n",
    "print(\"Time: \",time()-start)\n",
    "start = time()\n",
    "print(\"areSameKnotsAStar(k4_1_3,k4_1_2):\",areSameKnotsAStar(k4_1_3,k4_1_2))\n",
    "print(\"Time: \",time()-start)\n",
    "start = time()\n",
    "print(\"areSameKnotsAStar(k4_1_3,k4_1_1):\",areSameKnotsAStar(k4_1_3,k4_1_1))\n",
    "print(\"Time: \",time()-start)"
   ]
  },
  {
   "cell_type": "code",
   "execution_count": 5,
   "metadata": {},
   "outputs": [
    {
     "name": "stdout",
     "output_type": "stream",
     "text": [
      "27.63636363636364\n",
      "reidemeisterIII(1,19,11,check=False)\n",
      "24.55454545454546\n",
      "undoReidemeisterII(10,20)\n",
      "15.2\n",
      "reidemeisterIII(7,11,3,check=False)\n",
      "18.3\n",
      "reidemeisterIII(8,18,10,check=False)\n",
      "23.51111111111111\n",
      "undoALoop(9)\n",
      "19.5\n",
      "reidemeisterIII(10,2,14,check=False)\n",
      "18.475\n",
      "createALoop(9,3)\n",
      "24.144444444444442\n",
      "reidemeisterIII(11,17,9,check=False)\n",
      "18.244444444444444\n",
      "reidemeisterIII(12,8,1,check=False)\n",
      "16.01111111111111\n",
      "undoReidemeisterII(11,18)\n",
      "8.142857142857142\n",
      "createALoop(9,2)\n",
      "12.35\n",
      "reidemeisterIII(9,1,11,check=False)\n",
      "18.45\n",
      "reidemeisterIII(2,10,16,check=False)\n",
      "10.425\n",
      "undoALoop(1)\n",
      "1.4\n",
      "True\n"
     ]
    }
   ],
   "source": [
    "k1 = CustomKnot([X(1,4,2,5), X(3,8,4,9), X(5,12,6,13), X(7,2,8,3), X(9,1,10,14), X(11,6,12,7), X(13,11,14,10)]) # 7_6\n",
    "k2 = CustomKnot([X(1,10,2,11), X(1,19,22,20), X(4,15,5,16), X(6,14,7,13), X(7,2,8,3), X(8,21,9,22), X(12,4,13,3), X(14,17,15,18), X(16,5,17,6), X(18,12,19,11), X(20,9,21,10)]) # 7_6 newRandom 10000 simplificado\n",
    "\n",
    "print(similarity(k2,k1))\n",
    "k2.reidemeisterIII(1,19,11,check=False)\n",
    "print(\"reidemeisterIII(1,19,11,check=False)\")\n",
    "print(similarity(k2,k1)+0.1)\n",
    "k2.undoReidemeisterII(10,20)\n",
    "print(\"undoReidemeisterII(10,20)\")\n",
    "print(similarity(k2,k1)+0.2)\n",
    "k2.reidemeisterIII(7,11,3,check=False)\n",
    "print(\"reidemeisterIII(7,11,3,check=False)\")\n",
    "print(similarity(k2,k1)+0.3)\n",
    "k2.reidemeisterIII(8,18,10,check=False)\n",
    "print(\"reidemeisterIII(8,18,10,check=False)\")\n",
    "print(similarity(k2,k1)+0.4)\n",
    "k2.undoALoop(9)\n",
    "print(\"undoALoop(9)\")\n",
    "print(similarity(k2,k1)+0.5)\n",
    "k2.reidemeisterIII(10,2,14,check=False)\n",
    "print(\"reidemeisterIII(10,2,14,check=False)\")\n",
    "print(similarity(k2,k1)+0.6)\n",
    "k2.createALoop(9,3)\n",
    "print(\"createALoop(9,3)\")\n",
    "print(similarity(k2,k1)+0.7)\n",
    "k2.reidemeisterIII(11,17,9,check=False)\n",
    "print(\"reidemeisterIII(11,17,9,check=False)\")\n",
    "print(similarity(k2,k1)+0.8)\n",
    "k2.reidemeisterIII(12,8,1,check=False)\n",
    "print(\"reidemeisterIII(12,8,1,check=False)\")\n",
    "print(similarity(k2,k1)+0.9)\n",
    "k2.undoReidemeisterII(11,18)\n",
    "print(\"undoReidemeisterII(11,18)\")\n",
    "print(similarity(k2,k1)+1.0)\n",
    "k2.createALoop(9,2)\n",
    "print(\"createALoop(9,2)\")\n",
    "print(similarity(k2,k1)+1.1)\n",
    "k2.reidemeisterIII(9,1,11,check=False)\n",
    "print(\"reidemeisterIII(9,1,11,check=False)\")\n",
    "print(similarity(k2,k1)+1.2)\n",
    "k2.reidemeisterIII(2,10,16,check=False)\n",
    "print(\"reidemeisterIII(2,10,16,check=False)\")\n",
    "print(similarity(k2,k1)+1.3)\n",
    "k2.undoALoop(1)\n",
    "print(\"undoALoop(1)\")\n",
    "print(similarity(k2,k1)+1.4)\n",
    "\n",
    "print(k2 == k1)"
   ]
  },
  {
   "cell_type": "code",
   "execution_count": 2,
   "metadata": {},
   "outputs": [
    {
     "name": "stdout",
     "output_type": "stream",
     "text": [
      "27.63636363636364\n",
      "reidemeisterIII(1,19,11,check=False)\n",
      "24.454545454545457\n",
      "undoReidemeisterII(10,20)\n",
      "15.0\n",
      "reidemeisterIII(7,11,3,check=False)\n",
      "18.0\n",
      "reidemeisterIII(12,2,16,check=False)\n",
      "15.0\n",
      "reidemeisterIII(8,18,10,check=False)\n",
      "22.444444444444443\n",
      "undoALoop(9)\n",
      "17.875\n",
      "reidemeisterIII(10,2,14,check=False)\n",
      "19.0\n",
      "createALoop(16,2)\n",
      "21.999999999999996\n",
      "reidemeisterIII(16,8,18,check=False)\n",
      "19.33333333333333\n",
      "reidemeisterIII(10,2,14,check=False)\n",
      "18.111111111111107\n",
      "reidemeisterIII(9,15,18,check=False)\n",
      "14.333333333333332\n",
      "undoReidemeisterII(1,10)\n",
      "2.571428571428571\n",
      "createALoop(8,0)\n",
      "8.375\n",
      "reidemeisterIII(10,3,8,check=False)\n",
      "13.875\n",
      "reidemeisterIII(4,9,2,check=False)\n",
      "12.75\n",
      "undoALoop(3)\n",
      "0.0\n",
      "True\n"
     ]
    }
   ],
   "source": [
    "k1 = CustomKnot([X(1,4,2,5), X(3,8,4,9), X(5,12,6,13), X(7,2,8,3), X(9,1,10,14), X(11,6,12,7), X(13,11,14,10)]) # 7_6\n",
    "k2 = CustomKnot([X(1,10,2,11), X(1,19,22,20), X(4,15,5,16), X(6,14,7,13), X(7,2,8,3), X(8,21,9,22), X(12,4,13,3), X(14,17,15,18), X(16,5,17,6), X(18,12,19,11), X(20,9,21,10)]) # 7_6 newRandom 10000 simplificado\n",
    "\n",
    "print(similarity(k2,k1))\n",
    "k2.reidemeisterIII(1,19,11,check=False)\n",
    "print(\"reidemeisterIII(1,19,11,check=False)\")\n",
    "print(similarity(k2,k1))\n",
    "k2.undoReidemeisterII(10,20)\n",
    "print(\"undoReidemeisterII(10,20)\")\n",
    "print(similarity(k2,k1))\n",
    "k2.reidemeisterIII(7,11,3,check=False)\n",
    "print(\"reidemeisterIII(7,11,3,check=False)\")\n",
    "print(similarity(k2,k1))\n",
    "k2.reidemeisterIII(12,2,16,check=False)\n",
    "print(\"reidemeisterIII(12,2,16,check=False)\")\n",
    "print(similarity(k2,k1))\n",
    "k2.reidemeisterIII(8,18,10,check=False)\n",
    "print(\"reidemeisterIII(8,18,10,check=False)\")\n",
    "print(similarity(k2,k1))\n",
    "k2.undoALoop(9)\n",
    "print(\"undoALoop(9)\")\n",
    "print(similarity(k2,k1))\n",
    "k2.reidemeisterIII(10,2,14,check=False)\n",
    "print(\"reidemeisterIII(10,2,14,check=False)\")\n",
    "print(similarity(k2,k1))\n",
    "k2.createALoop(16,2)\n",
    "print(\"createALoop(16,2)\")\n",
    "print(similarity(k2,k1))\n",
    "k2.reidemeisterIII(16,8,18,check=False)\n",
    "print(\"reidemeisterIII(16,8,18,check=False)\")\n",
    "print(similarity(k2,k1))\n",
    "k2.reidemeisterIII(10,2,14,check=False)\n",
    "print(\"reidemeisterIII(10,2,14,check=False)\")\n",
    "print(similarity(k2,k1))\n",
    "k2.reidemeisterIII(9,15,18,check=False)\n",
    "print(\"reidemeisterIII(9,15,18,check=False)\")\n",
    "print(similarity(k2,k1))\n",
    "k2.undoReidemeisterII(1,10)\n",
    "print(\"undoReidemeisterII(1,10)\")\n",
    "print(similarity(k2,k1))\n",
    "k2.createALoop(8,0)\n",
    "print(\"createALoop(8,0)\")\n",
    "print(similarity(k2,k1))\n",
    "k2.reidemeisterIII(10,3,8,check=False)\n",
    "print(\"reidemeisterIII(10,3,8,check=False)\")\n",
    "print(similarity(k2,k1))\n",
    "k2.reidemeisterIII(4,9,2,check=False)\n",
    "print(\"reidemeisterIII(4,9,2,check=False)\")\n",
    "print(similarity(k2,k1))\n",
    "k2.undoALoop(3)\n",
    "print(\"undoALoop(3)\")\n",
    "print(similarity(k2,k1))\n",
    "\n",
    "print(k1==k2)\n"
   ]
  },
  {
   "cell_type": "code",
   "execution_count": 8,
   "metadata": {},
   "outputs": [],
   "source": [
    "k = CustomKnot([X(1,4,2,5), X(3,8,4,9), X(5,12,6,13), X(7,2,8,3), X(9,1,10,14), X(11,6,12,7), X(13,11,14,10)]) # 7_6\n",
    "k2 = CustomKnot([X(1,10,2,11), X(1,19,22,20), X(4,15,5,16), X(6,14,7,13), X(7,2,8,3), X(8,21,9,22), X(12,4,13,3), X(14,17,15,18), X(16,5,17,6), X(18,12,19,11), X(20,9,21,10)]) # 7_6 newRandom 10000 simplificado\n",
    "\n",
    "n = NodeKnot(k)\n",
    "maxJ = 2000"
   ]
  },
  {
   "cell_type": "code",
   "execution_count": 3,
   "metadata": {},
   "outputs": [
    {
     "name": "stdout",
     "output_type": "stream",
     "text": [
      "4001 2158 13.907079935073853\n"
     ]
    }
   ],
   "source": [
    "#Pruebas para set o sset\n",
    "s = set()\n",
    "start = time()\n",
    "j=0\n",
    "i=0\n",
    "for succes in n.deepSuccessors(1,100):\n",
    "    if not succes.knot.representationForHash in s:\n",
    "        s.add(succes.knot.representationForHash)\n",
    "        i+=1\n",
    "    if j>maxJ: break\n",
    "    j+=1\n",
    "print(j,i,time()-start)\n"
   ]
  },
  {
   "cell_type": "code",
   "execution_count": 4,
   "metadata": {},
   "outputs": [
    {
     "name": "stdout",
     "output_type": "stream",
     "text": [
      "4001 2158 13.95461893081665\n"
     ]
    }
   ],
   "source": [
    "#Pruebas para set o sset\n",
    "s = sset()\n",
    "start = time()\n",
    "j=0\n",
    "i=0\n",
    "for succes in n.deepSuccessors(1,100):\n",
    "    if  s.add(succes.knot.representationForHash):\n",
    "        i+=1\n",
    "    if j>maxJ: break\n",
    "    j+=1\n",
    "print(j,i,time()-start)"
   ]
  },
  {
   "cell_type": "code",
   "execution_count": 9,
   "metadata": {},
   "outputs": [
    {
     "name": "stdout",
     "output_type": "stream",
     "text": [
      "0 0\n",
      "1000 617\n",
      "2000 1149\n",
      "0 1149\n",
      "1000 1149\n",
      "2000 1149\n",
      "2000 1149 28.283635139465332\n"
     ]
    }
   ],
   "source": [
    "\n",
    "#pruebas para similarity o Similarity\n",
    "sim = Similarity(k2)\n",
    "i=0\n",
    "j=0\n",
    "start = time()\n",
    "for succes in n.deepSuccessors(1,100):\n",
    "    if j%1000 == 0:print(j, len(sim.similarities))\n",
    "    j+=1\n",
    "    if j>maxJ:\n",
    "        break\n",
    "    s = sim[succes.knot]\n",
    "    i+=1\n",
    "i=0\n",
    "j=0\n",
    "for succes in n.deepSuccessors(1,100):\n",
    "    if j%1000 == 0:print(j, len(sim.similarities))\n",
    "    j+=1\n",
    "    if j>maxJ:\n",
    "        break\n",
    "    s = sim[succes.knot]\n",
    "    i+=1\n",
    "end = time()\n",
    "print(i, len(sim.similarities), end-start)\n"
   ]
  },
  {
   "cell_type": "code",
   "execution_count": 10,
   "metadata": {},
   "outputs": [
    {
     "name": "stdout",
     "output_type": "stream",
     "text": [
      "0 0\n",
      "1000 617\n",
      "2000 1149\n",
      "0 1149\n",
      "1000 1149\n",
      "2000 1149\n",
      "2000 1149 28.5924711227417\n"
     ]
    }
   ],
   "source": [
    "start = time()\n",
    "#pruebas para similarity o Similarity\n",
    "sim = Similarity2(k2)\n",
    "i=0\n",
    "j=0\n",
    "for succes in n.deepSuccessors(1,100):\n",
    "    if j%1000 == 0:print(j, len(sim.similarities))\n",
    "    j+=1\n",
    "    if j>maxJ:\n",
    "        break\n",
    "    s = sim[succes.knot]\n",
    "    i+=1\n",
    "i=0\n",
    "j=0\n",
    "for succes in n.deepSuccessors(1,100):\n",
    "    if j%1000 == 0:print(j, len(sim.similarities))\n",
    "    j+=1\n",
    "    if j>maxJ:\n",
    "        break\n",
    "    s = sim[succes.knot]\n",
    "    i+=1\n",
    "end = time()\n",
    "print(i, len(sim.similarities), end-start)"
   ]
  },
  {
   "cell_type": "code",
   "execution_count": 11,
   "metadata": {},
   "outputs": [
    {
     "name": "stdout",
     "output_type": "stream",
     "text": [
      "0\n",
      "1000\n",
      "2000\n",
      "0\n",
      "1000\n",
      "2000\n",
      "2000 50.35020303726196\n"
     ]
    }
   ],
   "source": [
    "#pruebas para similarity o Similarity\n",
    "start = time()\n",
    "i=0\n",
    "j=0\n",
    "for succes in n.deepSuccessors(1,100):\n",
    "    if j%1000 == 0:print(j)\n",
    "    j+=1\n",
    "    if j>maxJ:\n",
    "        break\n",
    "    s = similarity(succes.knot,k2) \n",
    "    i+=1\n",
    "i=0\n",
    "j=0\n",
    "for succes in n.deepSuccessors(1,100):\n",
    "    if j%1000 == 0:print(j)\n",
    "    j+=1\n",
    "    if j>maxJ:\n",
    "        break\n",
    "    s = similarity(succes.knot,k2) \n",
    "    i+=1\n",
    "end = time()\n",
    "print(i , end-start)"
   ]
  },
  {
   "cell_type": "code",
   "execution_count": 48,
   "metadata": {},
   "outputs": [],
   "source": [
    "k1 = knotFromPyknotid(\"3_1\")\n",
    "k2 = knotFromPyknotid(\"4_1\")\n",
    "n1 = NodeKnot(k1)\n",
    "n2 = NodeKnot(k2)\n",
    "\n",
    "iMax = 200"
   ]
  },
  {
   "cell_type": "code",
   "execution_count": 49,
   "metadata": {},
   "outputs": [
    {
     "name": "stdout",
     "output_type": "stream",
     "text": [
      "40000\n"
     ]
    }
   ],
   "source": [
    "p1 = []\n",
    "i1 = 0\n",
    "for succes1 in n1.deepSuccessors(1,100):\n",
    "    i1+=1\n",
    "    if i1>iMax:\n",
    "        break\n",
    "    i2 = 0\n",
    "    for succes2 in n2.deepSuccessors(1,100):\n",
    "        i2+=1\n",
    "        if i2>iMax:\n",
    "            break\n",
    "        s = similarity(succes1.knot,succes2.knot)\n",
    "        p1.append(s)\n",
    "\n",
    "print(len(p1))"
   ]
  },
  {
   "cell_type": "code",
   "execution_count": 50,
   "metadata": {},
   "outputs": [
    {
     "name": "stdout",
     "output_type": "stream",
     "text": [
      "40000 16611\n"
     ]
    }
   ],
   "source": [
    "p2 = []\n",
    "similarities = SimilarityDF()\n",
    "i1 = 0\n",
    "for succes1 in n1.deepSuccessors(1,100):\n",
    "    i1+=1\n",
    "    if i1>iMax:\n",
    "        break\n",
    "    i2 = 0\n",
    "    for succes2 in n2.deepSuccessors(1,100):\n",
    "        i2+=1\n",
    "        if i2>iMax:\n",
    "            break\n",
    "        s = similarities.similarity(succes1.knot,succes2.knot)\n",
    "        p2.append(s)\n",
    "\n",
    "print(len(p1), len(similarities))"
   ]
  },
  {
   "cell_type": "code",
   "execution_count": 51,
   "metadata": {},
   "outputs": [
    {
     "data": {
      "text/plain": [
       "True"
      ]
     },
     "execution_count": 51,
     "metadata": {},
     "output_type": "execute_result"
    }
   ],
   "source": [
    "p1==p2"
   ]
  },
  {
   "cell_type": "code",
   "execution_count": 52,
   "metadata": {},
   "outputs": [
    {
     "name": "stdout",
     "output_type": "stream",
     "text": [
      "[X(1,12,2,13), X(1,25,28,26), X(4,21,5,22), X(8,18,9,17), X(9,2,10,3), X(10,27,11,28), X(14,4,15,3), X(15,6,16,7), X(16,6,17,5), X(19,18,20,19), X(20,23,21,24), X(22,7,23,8), X(24,14,25,13), X(26,11,27,12)]\n"
     ]
    }
   ],
   "source": [
    "k2 = CustomKnot([X(1,10,2,11), X(1,19,22,20), X(4,15,5,16), X(6,14,7,13), X(7,2,8,3), X(8,21,9,22), X(12,4,13,3), X(14,17,15,18), X(16,5,17,6), X(18,12,19,11), X(20,9,21,10)])\n",
    "k2.createReidemeisterII(5,13,1,4)\n",
    "k2.createALoop(8,1)\n",
    "k2.createALoop(20,0)\n",
    "k2.undoALoop(9)\n",
    "print(k2.crosses)"
   ]
  },
  {
   "cell_type": "code",
   "execution_count": 53,
   "metadata": {},
   "outputs": [
    {
     "name": "stdout",
     "output_type": "stream",
     "text": [
      "[X(1,12,2,13), X(1,25,28,26), X(4,21,5,22), X(8,18,9,17), X(9,2,10,3), X(10,27,11,28), X(14,4,15,3), X(15,6,16,7), X(16,6,17,5), X(19,18,20,19), X(20,23,21,24), X(22,7,23,8), X(24,14,25,13), X(26,11,27,12)]\n"
     ]
    }
   ],
   "source": [
    "k2 = CustomKnot([X(1,10,2,11), X(1,19,22,20), X(4,15,5,16), X(6,14,7,13), X(7,2,8,3), X(8,21,9,22), X(12,4,13,3), X(14,17,15,18), X(16,5,17,6), X(18,12,19,11), X(20,9,21,10)])\n",
    "k2.createReidemeisterII(5,13,1,4)\n",
    "\n",
    "k2.createALoop(18,0)\n",
    "'createReidemeisterII(5,13,1,4)', 'k2.createALoop(18,0)'\n",
    "print(k2.crosses)"
   ]
  },
  {
   "cell_type": "code",
   "execution_count": null,
   "metadata": {},
   "outputs": [],
   "source": []
  }
 ],
 "metadata": {
  "kernelspec": {
   "display_name": "Python 3.10.4 64-bit",
   "language": "python",
   "name": "python3"
  },
  "language_info": {
   "codemirror_mode": {
    "name": "ipython",
    "version": 3
   },
   "file_extension": ".py",
   "mimetype": "text/x-python",
   "name": "python",
   "nbconvert_exporter": "python",
   "pygments_lexer": "ipython3",
   "version": "3.10.4"
  },
  "orig_nbformat": 4,
  "vscode": {
   "interpreter": {
    "hash": "aee8b7b246df8f9039afb4144a1f6fd8d2ca17a180786b69acc140d282b71a49"
   }
  }
 },
 "nbformat": 4,
 "nbformat_minor": 2
}
