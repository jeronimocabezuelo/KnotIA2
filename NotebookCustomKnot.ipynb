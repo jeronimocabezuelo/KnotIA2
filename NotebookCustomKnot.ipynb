{
 "cells": [
  {
   "cell_type": "code",
   "execution_count": 2,
   "metadata": {},
   "outputs": [],
   "source": [
    "from copy import copy,deepcopy \n",
    "import numpy as np \n",
    "import matplotlib.pyplot as plt \n",
    "import pandas as pd\n",
    "from Path import *\n",
    "from CustomKnot import *\n",
    "from KnotDatabase import *\n",
    "from KnotStar import *\n",
    "from random import *\n",
    "from KnotGA import *\n",
    "from KnotAnt import *\n",
    "np.set_printoptions(threshold=np.inf,linewidth=np.inf,nanstr=\"n\")\n",
    "pd.options.display.max_colwidth = 100\n"
   ]
  },
  {
   "cell_type": "code",
   "execution_count": 18,
   "metadata": {},
   "outputs": [
    {
     "name": "stdout",
     "output_type": "stream",
     "text": [
      "True\n"
     ]
    }
   ],
   "source": [
    "from CustomKnot import *\n",
    "\n",
    "k1 = CustomKnot([X(1,4,2,5), X(3,8,4,9), X(5,12,6,13), X(7,2,8,3), X(9,1,10,14), X(11,6,12,7), X(13,11,14,10)]) # 7_6\n",
    "k2 = CustomKnot([X(1,10,2,11), X(1,19,22,20), X(4,15,5,16), X(6,14,7,13), X(7,2,8,3), X(8,21,9,22), X(12,4,13,3), X(14,17,15,18), X(16,5,17,6), X(18,12,19,11), X(20,9,21,10)]) # 7_6 newRandom 10000 simplificado\n",
    "\n",
    "k2.reidemeisterIII(1,19,11,check=False)\n",
    "k2.undoReidemeisterII(10,20)\n",
    "k2.reidemeisterIII(7,11,3,check=False)\n",
    "k2.reidemeisterIII(8,18,10,check=False)\n",
    "k2.undoALoop(9)\n",
    "k2.reidemeisterIII(10,2,14,check=False)\n",
    "k2.createALoop(9,3)\n",
    "k2.reidemeisterIII(11,17,9,check=False)\n",
    "k2.reidemeisterIII(12,8,1,check=False)\n",
    "k2.undoReidemeisterII(11,18)\n",
    "k2.createALoop(9,2)\n",
    "k2.reidemeisterIII(9,1,11,check=False)\n",
    "k2.reidemeisterIII(2,10,16,check=False)\n",
    "k2.undoALoop(1)\n",
    "\n",
    "print(k2 == k1)"
   ]
  },
  {
   "cell_type": "code",
   "execution_count": 19,
   "metadata": {},
   "outputs": [
    {
     "data": {
      "text/plain": [
       "6.25"
      ]
     },
     "execution_count": 19,
     "metadata": {},
     "output_type": "execute_result"
    }
   ],
   "source": [
    "k1 = knotFromPyknotid(\"3_1\")\n",
    "k2 = deepcopy(k1)\n",
    "k2.createALoop(5,3)\n",
    "difference(k1,k2)"
   ]
  },
  {
   "cell_type": "code",
   "execution_count": 22,
   "metadata": {},
   "outputs": [],
   "source": [
    "\n",
    "\n",
    "#k1 = CustomKnot([X(1,6,2,7), X(3,8,4,9), X(5,10,6,1), X(7,2,8,3), X(9,4,10,5)]) #5_1\n",
    "#k2 = CustomKnot([X(1,8,18,7), X(2,2,3,1), X(3,14,4,15), X(5,10,6,11), X(8,15,9,16), X(9,4,10,5), X(12,12,13,11), X(13,6,14,7), X(17,16,18,17)])#5_1_random\n",
    "\n",
    "#k1 = CustomKnot([X(1,4,2,5), X(3,6,4,1), X(5,2,6,3)]) #3_1\n",
    "#k2 = CustomKnot([X(1,4,20,3), X(2,5,3,6), X(4,1,5,2), X(6,19,7,20), X(8,15,9,16), X(9,19,10,18), X(11,10,12,11), X(12,7,13,8), X(13,14,14,15), X(16,18,17,17)])\n",
    "\n",
    "#k1 = CustomKnot([X(1,4,2,5), X(3,9,4,8), X(5,12,6,1), X(7,10,8,11), X(9,3,10,2), X(11,6,12,7)]) #6_1\n",
    "#k2 = CustomKnot([X(1,4,18,3), X(1,9,2,8), X(4,17,5,18), X(7,12,8,13), X(9,3,10,2), X(10,5,11,6), X(11,15,12,14), X(13,6,14,7), X(16,15,17,16)])\n",
    "# \n",
    "#6_1random\n",
    "\n",
    "#k1 = CustomKnot([X(1,4,2,5), X(3,9,4,8), X(5,12,6,1), X(7,10,8,11), X(9,3,10,2), X(11,6,12,7)])#6_1\n",
    "#k2 = CustomKnot([X(1,14,22,13), X(2,11,3,12), X(3,19,4,18), X(4,17,5,18), X(6,16,7,15), X(7,9,8,8), X(10,10,11,9), X(12,1,13,2), X(14,21,15,22), X(16,20,17,19), X(20,6,21,5)]) #6_1 random 5000\n",
    "\n",
    "\n",
    "#k1 = CustomKnot([X(1,4,2,5), X(3,9,4,8), X(5,12,6,1), X(7,10,8,11), X(9,3,10,2), X(11,6,12,7)])  #6_1\n",
    "#[X(1,6,18,5), X(3,11,4,10), X(6,17,7,18), X(7,12,8,13), X(8,9,9,10), X(11,3,12,2), X(14,13,15,14), X(15,4,16,5), X(16,2,17,1)] #6_1 random 100000\n",
    "#k2 = CustomKnot([X(1,6,14,5), X(3,9,4,8), X(6,13,7,14), X(7,10,8,11), X(9,3,10,2), X(11,4,12,5), X(12,2,13,1)]) #6_1 random 100000 simplificado\n",
    "\n",
    "\n",
    "#k1 = CustomKnot([X(1,4,2,5), X(3,9,4,8), X(5,12,6,1), X(7,10,8,11), X(9,3,10,2), X(11,6,12,7)]) #6_1\n",
    "#[X(1,7,18,8), X(1,12,2,13), X(4,9,5,10), X(8,18,9,17), X(10,3,11,4), X(13,6,14,7), X(14,6,15,5), X(15,2,16,3), X(16,12,17,11)] #6_1  random 1000000\n",
    "#k2 = CustomKnot([X(1,5,14,6), X(1,10,2,11), X(4,7,5,8), X(6,14,7,13), X(8,3,9,4), X(11,2,12,3), X(12,10,13,9)]) #6_1  random 1000000 simplificado\n",
    "k5_1_1 = CustomKnot([X(1, 8, 2, 9), X(2, 11, 3, 12), X(4, 14, 5, 13), X(5, 18, 6, 1), X(6, 15, 7, 16), X(9, 12, 10, 13), X(10, 3, 11, 4), X(14, 17, 15, 18), X(16, 7, 17, 8)])\n",
    "k5_1_2 = CustomKnot([X(1, 8, 32, 7), X(1, 20, 2, 21), X(3, 22, 4, 23), X(5, 25, 6, 24), X(8, 27, 9, 28), X(12, 31, 13, 32), X(14, 10, 15,9), X(15, 29, 16, 28), X(16, 11, 17, 12), X(17, 30, 18, 31), X(18, 14, 19, 13), X(19, 6, 20, 7), X(21, 2, 22, 3), X(25, 5, 26, 4), X(26, 24, 27, 23), X(29, 10, 30, 11)])\n",
    "\n",
    "#k1 = CustomKnot([X(1,8,2,9), X(3,10,4,11), X(5,12,6,13), X(7,14,8,1), X(9,2,10,3), X(11,4,12,5), X(13,6,14,7)]) #7_1\n",
    "#[X(1,12,2,13), X(3,18,4,19), X(4,7,5,8), X(6,17,7,18), X(11,20,12,1), X(13,2,14,3), X(14,10,15,9), X(15,8,16,9), X(16,5,17,6), X(19,10,20,11)] #7_1 random 10000\n",
    "#k2 = CustomKnot([X(1,10,2,11), X(3,14,4,15), X(4,7,5,8), X(6,13,7,14), X(9,16,10,1), X(11,2,12,3), X(12,5,13,6), X(15,8,16,9)]) #7_1 random 10000 simplificado\n",
    "\n",
    "#k1 = CustomKnot([X(1,8,2,9), X(3,10,4,11), X(5,12,6,13), X(7,14,8,1), X(9,2,10,3), X(11,4,12,5), X(13,6,14,7)])# 7_1\n",
    "#k2 = CustomKnot([X(2,9,3,10), X(3,12,4,13), X(5,14,6,15), X(8,1,9,2), X(10,7,11,8), X(11,16,12,1), X(13,4,14,5), X(15,6,16,7)])# 7_1 newRandom 30 simplificado\n",
    "\n",
    "#k1 = CustomKnot([X(1,8,2,9), X(3,10,4,11), X(5,12,6,13), X(7,14,8,1), X(9,2,10,3), X(11,4,12,5), X(13,6,14,7)]) # 7_1\n",
    "#k2 = CustomKnot([X(1,10,2,11), X(4,11,5,12), X(5,2,6,3), X(7,14,8,15), X(9,16,10,1), X(12,3,13,4), X(13,6,14,7), X(15,8,16,9)])#7_1 newRandom 10000 simplificado\n",
    "\n",
    "# Este tarda mucho:\n",
    "#k1 = CustomKnot([X(1,4,2,5), X(3,8,4,9), X(5,12,6,13), X(7,2,8,3), X(9,1,10,14), X(11,6,12,7), X(13,11,14,10)]) # 7_6\n",
    "#k2 = CustomKnot([X(1,10,2,11), X(1,19,22,20), X(4,15,5,16), X(6,14,7,13), X(7,2,8,3), X(8,21,9,22), X(12,4,13,3), X(14,17,15,18), X(16,5,17,6), X(18,12,19,11), X(20,9,21,10)]) # 7_6 newRandom 10000 simplificado\n",
    "\n",
    "\n",
    "k1  = knotFromPyknotid(\"3_1\")\n",
    "# k2 = deepcopy(k1)\n",
    "# k2.randomMovN(10000,20,percentage=True)\n",
    "\n",
    "# print(k1.crosses)\n",
    "# print(k2.crosses)\n",
    "# k2.reduceUnnecessaryMov()\n",
    "# print(k2.crosses)\n",
    "# print(k2==k1)\n"
   ]
  },
  {
   "cell_type": "code",
   "execution_count": null,
   "metadata": {},
   "outputs": [],
   "source": [
    "k5_1_1 = CustomKnot([X(1, 8, 2, 9), X(2, 11, 3, 12), X(4, 14, 5, 13), X(5, 18, 6, 1), X(6, 15, 7, 16), X(9, 12, 10, 13), X(10, 3, 11, 4), X(14, 17, 15, 18), X(16, 7, 17, 8)])\n",
    "k5_1_2 = CustomKnot([X(1, 8, 32, 7), X(1, 20, 2, 21), X(3, 22, 4, 23), X(5, 25, 6, 24), X(8, 27, 9, 28), X(12, 31, 13, 32), X(14, 10, 15,9), X(15, 29, 16, 28), X(16, 11, 17, 12), X(17, 30, 18, 31), X(18, 14, 19, 13), X(19, 6, 20, 7), X(21, 2, 22, 3), X(25, 5, 26, 4), X(26, 24, 27, 23), X(29, 10, 30, 11)])"
   ]
  },
  {
   "cell_type": "code",
   "execution_count": 23,
   "metadata": {},
   "outputs": [
    {
     "data": {
      "text/plain": [
       "<matplotlib.image.AxesImage at 0x10904d540>"
      ]
     },
     "execution_count": 23,
     "metadata": {},
     "output_type": "execute_result"
    },
    {
     "ename": "ValueError",
     "evalue": "cannot convert float NaN to integer",
     "output_type": "error",
     "traceback": [
      "\u001b[0;31m---------------------------------------------------------------------------\u001b[0m",
      "\u001b[0;31mValueError\u001b[0m                                Traceback (most recent call last)",
      "File \u001b[0;32m/Library/Frameworks/Python.framework/Versions/3.10/lib/python3.10/site-packages/IPython/core/formatters.py:339\u001b[0m, in \u001b[0;36mBaseFormatter.__call__\u001b[0;34m(self, obj)\u001b[0m\n\u001b[1;32m    337\u001b[0m     \u001b[39mpass\u001b[39;00m\n\u001b[1;32m    338\u001b[0m \u001b[39melse\u001b[39;00m:\n\u001b[0;32m--> 339\u001b[0m     \u001b[39mreturn\u001b[39;00m printer(obj)\n\u001b[1;32m    340\u001b[0m \u001b[39m# Finally look for special method names\u001b[39;00m\n\u001b[1;32m    341\u001b[0m method \u001b[39m=\u001b[39m get_real_method(obj, \u001b[39mself\u001b[39m\u001b[39m.\u001b[39mprint_method)\n",
      "File \u001b[0;32m/Library/Frameworks/Python.framework/Versions/3.10/lib/python3.10/site-packages/IPython/core/pylabtools.py:151\u001b[0m, in \u001b[0;36mprint_figure\u001b[0;34m(fig, fmt, bbox_inches, base64, **kwargs)\u001b[0m\n\u001b[1;32m    148\u001b[0m     \u001b[39mfrom\u001b[39;00m \u001b[39mmatplotlib\u001b[39;00m\u001b[39m.\u001b[39;00m\u001b[39mbackend_bases\u001b[39;00m \u001b[39mimport\u001b[39;00m FigureCanvasBase\n\u001b[1;32m    149\u001b[0m     FigureCanvasBase(fig)\n\u001b[0;32m--> 151\u001b[0m fig\u001b[39m.\u001b[39;49mcanvas\u001b[39m.\u001b[39;49mprint_figure(bytes_io, \u001b[39m*\u001b[39;49m\u001b[39m*\u001b[39;49mkw)\n\u001b[1;32m    152\u001b[0m data \u001b[39m=\u001b[39m bytes_io\u001b[39m.\u001b[39mgetvalue()\n\u001b[1;32m    153\u001b[0m \u001b[39mif\u001b[39;00m fmt \u001b[39m==\u001b[39m \u001b[39m'\u001b[39m\u001b[39msvg\u001b[39m\u001b[39m'\u001b[39m:\n",
      "File \u001b[0;32m/Library/Frameworks/Python.framework/Versions/3.10/lib/python3.10/site-packages/matplotlib/backend_bases.py:2295\u001b[0m, in \u001b[0;36mFigureCanvasBase.print_figure\u001b[0;34m(self, filename, dpi, facecolor, edgecolor, orientation, format, bbox_inches, pad_inches, bbox_extra_artists, backend, **kwargs)\u001b[0m\n\u001b[1;32m   2289\u001b[0m     renderer \u001b[39m=\u001b[39m _get_renderer(\n\u001b[1;32m   2290\u001b[0m         \u001b[39mself\u001b[39m\u001b[39m.\u001b[39mfigure,\n\u001b[1;32m   2291\u001b[0m         functools\u001b[39m.\u001b[39mpartial(\n\u001b[1;32m   2292\u001b[0m             print_method, orientation\u001b[39m=\u001b[39morientation)\n\u001b[1;32m   2293\u001b[0m     )\n\u001b[1;32m   2294\u001b[0m     \u001b[39mwith\u001b[39;00m \u001b[39mgetattr\u001b[39m(renderer, \u001b[39m\"\u001b[39m\u001b[39m_draw_disabled\u001b[39m\u001b[39m\"\u001b[39m, nullcontext)():\n\u001b[0;32m-> 2295\u001b[0m         \u001b[39mself\u001b[39;49m\u001b[39m.\u001b[39;49mfigure\u001b[39m.\u001b[39;49mdraw(renderer)\n\u001b[1;32m   2297\u001b[0m \u001b[39mif\u001b[39;00m bbox_inches:\n\u001b[1;32m   2298\u001b[0m     \u001b[39mif\u001b[39;00m bbox_inches \u001b[39m==\u001b[39m \u001b[39m\"\u001b[39m\u001b[39mtight\u001b[39m\u001b[39m\"\u001b[39m:\n",
      "File \u001b[0;32m/Library/Frameworks/Python.framework/Versions/3.10/lib/python3.10/site-packages/matplotlib/artist.py:73\u001b[0m, in \u001b[0;36m_finalize_rasterization.<locals>.draw_wrapper\u001b[0;34m(artist, renderer, *args, **kwargs)\u001b[0m\n\u001b[1;32m     71\u001b[0m \u001b[39m@wraps\u001b[39m(draw)\n\u001b[1;32m     72\u001b[0m \u001b[39mdef\u001b[39;00m \u001b[39mdraw_wrapper\u001b[39m(artist, renderer, \u001b[39m*\u001b[39margs, \u001b[39m*\u001b[39m\u001b[39m*\u001b[39mkwargs):\n\u001b[0;32m---> 73\u001b[0m     result \u001b[39m=\u001b[39m draw(artist, renderer, \u001b[39m*\u001b[39;49margs, \u001b[39m*\u001b[39;49m\u001b[39m*\u001b[39;49mkwargs)\n\u001b[1;32m     74\u001b[0m     \u001b[39mif\u001b[39;00m renderer\u001b[39m.\u001b[39m_rasterizing:\n\u001b[1;32m     75\u001b[0m         renderer\u001b[39m.\u001b[39mstop_rasterizing()\n",
      "File \u001b[0;32m/Library/Frameworks/Python.framework/Versions/3.10/lib/python3.10/site-packages/matplotlib/artist.py:50\u001b[0m, in \u001b[0;36mallow_rasterization.<locals>.draw_wrapper\u001b[0;34m(artist, renderer)\u001b[0m\n\u001b[1;32m     47\u001b[0m     \u001b[39mif\u001b[39;00m artist\u001b[39m.\u001b[39mget_agg_filter() \u001b[39mis\u001b[39;00m \u001b[39mnot\u001b[39;00m \u001b[39mNone\u001b[39;00m:\n\u001b[1;32m     48\u001b[0m         renderer\u001b[39m.\u001b[39mstart_filter()\n\u001b[0;32m---> 50\u001b[0m     \u001b[39mreturn\u001b[39;00m draw(artist, renderer)\n\u001b[1;32m     51\u001b[0m \u001b[39mfinally\u001b[39;00m:\n\u001b[1;32m     52\u001b[0m     \u001b[39mif\u001b[39;00m artist\u001b[39m.\u001b[39mget_agg_filter() \u001b[39mis\u001b[39;00m \u001b[39mnot\u001b[39;00m \u001b[39mNone\u001b[39;00m:\n",
      "File \u001b[0;32m/Library/Frameworks/Python.framework/Versions/3.10/lib/python3.10/site-packages/matplotlib/figure.py:2810\u001b[0m, in \u001b[0;36mFigure.draw\u001b[0;34m(self, renderer)\u001b[0m\n\u001b[1;32m   2807\u001b[0m         \u001b[39m# ValueError can occur when resizing a window.\u001b[39;00m\n\u001b[1;32m   2809\u001b[0m \u001b[39mself\u001b[39m\u001b[39m.\u001b[39mpatch\u001b[39m.\u001b[39mdraw(renderer)\n\u001b[0;32m-> 2810\u001b[0m mimage\u001b[39m.\u001b[39;49m_draw_list_compositing_images(\n\u001b[1;32m   2811\u001b[0m     renderer, \u001b[39mself\u001b[39;49m, artists, \u001b[39mself\u001b[39;49m\u001b[39m.\u001b[39;49msuppressComposite)\n\u001b[1;32m   2813\u001b[0m \u001b[39mfor\u001b[39;00m sfig \u001b[39min\u001b[39;00m \u001b[39mself\u001b[39m\u001b[39m.\u001b[39msubfigs:\n\u001b[1;32m   2814\u001b[0m     sfig\u001b[39m.\u001b[39mdraw(renderer)\n",
      "File \u001b[0;32m/Library/Frameworks/Python.framework/Versions/3.10/lib/python3.10/site-packages/matplotlib/image.py:132\u001b[0m, in \u001b[0;36m_draw_list_compositing_images\u001b[0;34m(renderer, parent, artists, suppress_composite)\u001b[0m\n\u001b[1;32m    130\u001b[0m \u001b[39mif\u001b[39;00m not_composite \u001b[39mor\u001b[39;00m \u001b[39mnot\u001b[39;00m has_images:\n\u001b[1;32m    131\u001b[0m     \u001b[39mfor\u001b[39;00m a \u001b[39min\u001b[39;00m artists:\n\u001b[0;32m--> 132\u001b[0m         a\u001b[39m.\u001b[39;49mdraw(renderer)\n\u001b[1;32m    133\u001b[0m \u001b[39melse\u001b[39;00m:\n\u001b[1;32m    134\u001b[0m     \u001b[39m# Composite any adjacent images together\u001b[39;00m\n\u001b[1;32m    135\u001b[0m     image_group \u001b[39m=\u001b[39m []\n",
      "File \u001b[0;32m/Library/Frameworks/Python.framework/Versions/3.10/lib/python3.10/site-packages/matplotlib/artist.py:50\u001b[0m, in \u001b[0;36mallow_rasterization.<locals>.draw_wrapper\u001b[0;34m(artist, renderer)\u001b[0m\n\u001b[1;32m     47\u001b[0m     \u001b[39mif\u001b[39;00m artist\u001b[39m.\u001b[39mget_agg_filter() \u001b[39mis\u001b[39;00m \u001b[39mnot\u001b[39;00m \u001b[39mNone\u001b[39;00m:\n\u001b[1;32m     48\u001b[0m         renderer\u001b[39m.\u001b[39mstart_filter()\n\u001b[0;32m---> 50\u001b[0m     \u001b[39mreturn\u001b[39;00m draw(artist, renderer)\n\u001b[1;32m     51\u001b[0m \u001b[39mfinally\u001b[39;00m:\n\u001b[1;32m     52\u001b[0m     \u001b[39mif\u001b[39;00m artist\u001b[39m.\u001b[39mget_agg_filter() \u001b[39mis\u001b[39;00m \u001b[39mnot\u001b[39;00m \u001b[39mNone\u001b[39;00m:\n",
      "File \u001b[0;32m/Library/Frameworks/Python.framework/Versions/3.10/lib/python3.10/site-packages/matplotlib/axes/_base.py:3082\u001b[0m, in \u001b[0;36m_AxesBase.draw\u001b[0;34m(self, renderer)\u001b[0m\n\u001b[1;32m   3079\u001b[0m         a\u001b[39m.\u001b[39mdraw(renderer)\n\u001b[1;32m   3080\u001b[0m     renderer\u001b[39m.\u001b[39mstop_rasterizing()\n\u001b[0;32m-> 3082\u001b[0m mimage\u001b[39m.\u001b[39;49m_draw_list_compositing_images(\n\u001b[1;32m   3083\u001b[0m     renderer, \u001b[39mself\u001b[39;49m, artists, \u001b[39mself\u001b[39;49m\u001b[39m.\u001b[39;49mfigure\u001b[39m.\u001b[39;49msuppressComposite)\n\u001b[1;32m   3085\u001b[0m renderer\u001b[39m.\u001b[39mclose_group(\u001b[39m'\u001b[39m\u001b[39maxes\u001b[39m\u001b[39m'\u001b[39m)\n\u001b[1;32m   3086\u001b[0m \u001b[39mself\u001b[39m\u001b[39m.\u001b[39mstale \u001b[39m=\u001b[39m \u001b[39mFalse\u001b[39;00m\n",
      "File \u001b[0;32m/Library/Frameworks/Python.framework/Versions/3.10/lib/python3.10/site-packages/matplotlib/image.py:132\u001b[0m, in \u001b[0;36m_draw_list_compositing_images\u001b[0;34m(renderer, parent, artists, suppress_composite)\u001b[0m\n\u001b[1;32m    130\u001b[0m \u001b[39mif\u001b[39;00m not_composite \u001b[39mor\u001b[39;00m \u001b[39mnot\u001b[39;00m has_images:\n\u001b[1;32m    131\u001b[0m     \u001b[39mfor\u001b[39;00m a \u001b[39min\u001b[39;00m artists:\n\u001b[0;32m--> 132\u001b[0m         a\u001b[39m.\u001b[39;49mdraw(renderer)\n\u001b[1;32m    133\u001b[0m \u001b[39melse\u001b[39;00m:\n\u001b[1;32m    134\u001b[0m     \u001b[39m# Composite any adjacent images together\u001b[39;00m\n\u001b[1;32m    135\u001b[0m     image_group \u001b[39m=\u001b[39m []\n",
      "File \u001b[0;32m/Library/Frameworks/Python.framework/Versions/3.10/lib/python3.10/site-packages/matplotlib/artist.py:50\u001b[0m, in \u001b[0;36mallow_rasterization.<locals>.draw_wrapper\u001b[0;34m(artist, renderer)\u001b[0m\n\u001b[1;32m     47\u001b[0m     \u001b[39mif\u001b[39;00m artist\u001b[39m.\u001b[39mget_agg_filter() \u001b[39mis\u001b[39;00m \u001b[39mnot\u001b[39;00m \u001b[39mNone\u001b[39;00m:\n\u001b[1;32m     48\u001b[0m         renderer\u001b[39m.\u001b[39mstart_filter()\n\u001b[0;32m---> 50\u001b[0m     \u001b[39mreturn\u001b[39;00m draw(artist, renderer)\n\u001b[1;32m     51\u001b[0m \u001b[39mfinally\u001b[39;00m:\n\u001b[1;32m     52\u001b[0m     \u001b[39mif\u001b[39;00m artist\u001b[39m.\u001b[39mget_agg_filter() \u001b[39mis\u001b[39;00m \u001b[39mnot\u001b[39;00m \u001b[39mNone\u001b[39;00m:\n",
      "File \u001b[0;32m/Library/Frameworks/Python.framework/Versions/3.10/lib/python3.10/site-packages/matplotlib/axis.py:1158\u001b[0m, in \u001b[0;36mAxis.draw\u001b[0;34m(self, renderer, *args, **kwargs)\u001b[0m\n\u001b[1;32m   1155\u001b[0m     \u001b[39mreturn\u001b[39;00m\n\u001b[1;32m   1156\u001b[0m renderer\u001b[39m.\u001b[39mopen_group(\u001b[39m__name__\u001b[39m, gid\u001b[39m=\u001b[39m\u001b[39mself\u001b[39m\u001b[39m.\u001b[39mget_gid())\n\u001b[0;32m-> 1158\u001b[0m ticks_to_draw \u001b[39m=\u001b[39m \u001b[39mself\u001b[39;49m\u001b[39m.\u001b[39;49m_update_ticks()\n\u001b[1;32m   1159\u001b[0m ticklabelBoxes, ticklabelBoxes2 \u001b[39m=\u001b[39m \u001b[39mself\u001b[39m\u001b[39m.\u001b[39m_get_tick_bboxes(ticks_to_draw,\n\u001b[1;32m   1160\u001b[0m                                                         renderer)\n\u001b[1;32m   1162\u001b[0m \u001b[39mfor\u001b[39;00m tick \u001b[39min\u001b[39;00m ticks_to_draw:\n",
      "File \u001b[0;32m/Library/Frameworks/Python.framework/Versions/3.10/lib/python3.10/site-packages/matplotlib/axis.py:1045\u001b[0m, in \u001b[0;36mAxis._update_ticks\u001b[0;34m(self)\u001b[0m\n\u001b[1;32m   1040\u001b[0m \u001b[39mdef\u001b[39;00m \u001b[39m_update_ticks\u001b[39m(\u001b[39mself\u001b[39m):\n\u001b[1;32m   1041\u001b[0m     \u001b[39m\"\"\"\u001b[39;00m\n\u001b[1;32m   1042\u001b[0m \u001b[39m    Update ticks (position and labels) using the current data interval of\u001b[39;00m\n\u001b[1;32m   1043\u001b[0m \u001b[39m    the axes.  Return the list of ticks that will be drawn.\u001b[39;00m\n\u001b[1;32m   1044\u001b[0m \u001b[39m    \"\"\"\u001b[39;00m\n\u001b[0;32m-> 1045\u001b[0m     major_locs \u001b[39m=\u001b[39m \u001b[39mself\u001b[39;49m\u001b[39m.\u001b[39;49mget_majorticklocs()\n\u001b[1;32m   1046\u001b[0m     major_labels \u001b[39m=\u001b[39m \u001b[39mself\u001b[39m\u001b[39m.\u001b[39mmajor\u001b[39m.\u001b[39mformatter\u001b[39m.\u001b[39mformat_ticks(major_locs)\n\u001b[1;32m   1047\u001b[0m     major_ticks \u001b[39m=\u001b[39m \u001b[39mself\u001b[39m\u001b[39m.\u001b[39mget_major_ticks(\u001b[39mlen\u001b[39m(major_locs))\n",
      "File \u001b[0;32m/Library/Frameworks/Python.framework/Versions/3.10/lib/python3.10/site-packages/matplotlib/axis.py:1277\u001b[0m, in \u001b[0;36mAxis.get_majorticklocs\u001b[0;34m(self)\u001b[0m\n\u001b[1;32m   1275\u001b[0m \u001b[39mdef\u001b[39;00m \u001b[39mget_majorticklocs\u001b[39m(\u001b[39mself\u001b[39m):\n\u001b[1;32m   1276\u001b[0m     \u001b[39m\"\"\"Return this Axis' major tick locations in data coordinates.\"\"\"\u001b[39;00m\n\u001b[0;32m-> 1277\u001b[0m     \u001b[39mreturn\u001b[39;00m \u001b[39mself\u001b[39;49m\u001b[39m.\u001b[39;49mmajor\u001b[39m.\u001b[39;49mlocator()\n",
      "File \u001b[0;32m/Library/Frameworks/Python.framework/Versions/3.10/lib/python3.10/site-packages/matplotlib/ticker.py:2114\u001b[0m, in \u001b[0;36mMaxNLocator.__call__\u001b[0;34m(self)\u001b[0m\n\u001b[1;32m   2112\u001b[0m \u001b[39mdef\u001b[39;00m \u001b[39m__call__\u001b[39m(\u001b[39mself\u001b[39m):\n\u001b[1;32m   2113\u001b[0m     vmin, vmax \u001b[39m=\u001b[39m \u001b[39mself\u001b[39m\u001b[39m.\u001b[39maxis\u001b[39m.\u001b[39mget_view_interval()\n\u001b[0;32m-> 2114\u001b[0m     \u001b[39mreturn\u001b[39;00m \u001b[39mself\u001b[39;49m\u001b[39m.\u001b[39;49mtick_values(vmin, vmax)\n",
      "File \u001b[0;32m/Library/Frameworks/Python.framework/Versions/3.10/lib/python3.10/site-packages/matplotlib/ticker.py:2122\u001b[0m, in \u001b[0;36mMaxNLocator.tick_values\u001b[0;34m(self, vmin, vmax)\u001b[0m\n\u001b[1;32m   2119\u001b[0m     vmin \u001b[39m=\u001b[39m \u001b[39m-\u001b[39mvmax\n\u001b[1;32m   2120\u001b[0m vmin, vmax \u001b[39m=\u001b[39m mtransforms\u001b[39m.\u001b[39mnonsingular(\n\u001b[1;32m   2121\u001b[0m     vmin, vmax, expander\u001b[39m=\u001b[39m\u001b[39m1e-13\u001b[39m, tiny\u001b[39m=\u001b[39m\u001b[39m1e-14\u001b[39m)\n\u001b[0;32m-> 2122\u001b[0m locs \u001b[39m=\u001b[39m \u001b[39mself\u001b[39;49m\u001b[39m.\u001b[39;49m_raw_ticks(vmin, vmax)\n\u001b[1;32m   2124\u001b[0m prune \u001b[39m=\u001b[39m \u001b[39mself\u001b[39m\u001b[39m.\u001b[39m_prune\n\u001b[1;32m   2125\u001b[0m \u001b[39mif\u001b[39;00m prune \u001b[39m==\u001b[39m \u001b[39m'\u001b[39m\u001b[39mlower\u001b[39m\u001b[39m'\u001b[39m:\n",
      "File \u001b[0;32m/Library/Frameworks/Python.framework/Versions/3.10/lib/python3.10/site-packages/matplotlib/ticker.py:2061\u001b[0m, in \u001b[0;36mMaxNLocator._raw_ticks\u001b[0;34m(self, vmin, vmax)\u001b[0m\n\u001b[1;32m   2059\u001b[0m \u001b[39mif\u001b[39;00m \u001b[39mself\u001b[39m\u001b[39m.\u001b[39m_nbins \u001b[39m==\u001b[39m \u001b[39m'\u001b[39m\u001b[39mauto\u001b[39m\u001b[39m'\u001b[39m:\n\u001b[1;32m   2060\u001b[0m     \u001b[39mif\u001b[39;00m \u001b[39mself\u001b[39m\u001b[39m.\u001b[39maxis \u001b[39mis\u001b[39;00m \u001b[39mnot\u001b[39;00m \u001b[39mNone\u001b[39;00m:\n\u001b[0;32m-> 2061\u001b[0m         nbins \u001b[39m=\u001b[39m np\u001b[39m.\u001b[39mclip(\u001b[39mself\u001b[39;49m\u001b[39m.\u001b[39;49maxis\u001b[39m.\u001b[39;49mget_tick_space(),\n\u001b[1;32m   2062\u001b[0m                         \u001b[39mmax\u001b[39m(\u001b[39m1\u001b[39m, \u001b[39mself\u001b[39m\u001b[39m.\u001b[39m_min_n_ticks \u001b[39m-\u001b[39m \u001b[39m1\u001b[39m), \u001b[39m9\u001b[39m)\n\u001b[1;32m   2063\u001b[0m     \u001b[39melse\u001b[39;00m:\n\u001b[1;32m   2064\u001b[0m         nbins \u001b[39m=\u001b[39m \u001b[39m9\u001b[39m\n",
      "File \u001b[0;32m/Library/Frameworks/Python.framework/Versions/3.10/lib/python3.10/site-packages/matplotlib/axis.py:2270\u001b[0m, in \u001b[0;36mXAxis.get_tick_space\u001b[0;34m(self)\u001b[0m\n\u001b[1;32m   2268\u001b[0m size \u001b[39m=\u001b[39m \u001b[39mself\u001b[39m\u001b[39m.\u001b[39m_get_tick_label_size(\u001b[39m'\u001b[39m\u001b[39mx\u001b[39m\u001b[39m'\u001b[39m) \u001b[39m*\u001b[39m \u001b[39m3\u001b[39m\n\u001b[1;32m   2269\u001b[0m \u001b[39mif\u001b[39;00m size \u001b[39m>\u001b[39m \u001b[39m0\u001b[39m:\n\u001b[0;32m-> 2270\u001b[0m     \u001b[39mreturn\u001b[39;00m \u001b[39mint\u001b[39;49m(np\u001b[39m.\u001b[39;49mfloor(length \u001b[39m/\u001b[39;49m size))\n\u001b[1;32m   2271\u001b[0m \u001b[39melse\u001b[39;00m:\n\u001b[1;32m   2272\u001b[0m     \u001b[39mreturn\u001b[39;00m \u001b[39m2\u001b[39m\u001b[39m*\u001b[39m\u001b[39m*\u001b[39m\u001b[39m31\u001b[39m \u001b[39m-\u001b[39m \u001b[39m1\u001b[39m\n",
      "\u001b[0;31mValueError\u001b[0m: cannot convert float NaN to integer"
     ]
    },
    {
     "data": {
      "text/plain": [
       "<Figure size 0x0 with 1 Axes>"
      ]
     },
     "metadata": {
      "needs_background": "light"
     },
     "output_type": "display_data"
    }
   ],
   "source": [
    "\n",
    "\n",
    "image = k1.image()\n",
    "fig, ax = plt.subplots(figsize=(image.shape[0]//(51*2),image.shape[1]//(51*2)))\n",
    "ax.imshow(image,cmap='gray')"
   ]
  },
  {
   "cell_type": "code",
   "execution_count": 24,
   "metadata": {},
   "outputs": [
    {
     "name": "stdout",
     "output_type": "stream",
     "text": [
      "True\n",
      "True\n",
      "True\n",
      "Cross: [X(1,15,32,16), X(3,2,4,3), X(6,1,7,2), X(8,7,9,8), X(10,9,11,10), X(11,5,12,4), X(12,5,13,6), X(19,18,20,19), X(21,15,22,14), X(22,13,23,14), X(24,23,25,24), X(25,20,26,21), X(26,27,27,28), X(28,18,29,17), X(29,16,30,17), X(30,31,31,32)]\n",
      "Planar Diagrams:\n",
      "[[21 21 21 21 21 21 21 21 21 21 21 21 21 21 21 21 21 21  0  0  0  0  0  0]\n",
      " [21 15 15 15 15 15 15 15 15 15 15 15 15 15 15 15 15 21  0  0  0  0  0  0]\n",
      " [21 15  6  6  6  0  0  0  0  0  0 22 22 22 22 22 15 21  0  0  0  0  0  0]\n",
      " [21 15  6 12 -2 13 13 13 13 13 13 -1 14 14 14 -1 15 21  0  0  0  0  0  0]\n",
      " [21 15  6 12  5  0  0  0  0  0  0 23  0  0  0 21 21 21  0  0  0  0  0  0]\n",
      " [21 15  6 12  5  0  0  0  0  0  0 23 23 23 23 23 23 23 23  0  0  0  0  0]\n",
      " [21 15  6 12  5  0  0  0  0 11 11 11 11 11 11 11 11 11 23  0  0  0  0  0]\n",
      " [21 15  6 12  5  0  0  0  0 11  8  8  0  0  0 10 10 11 23  0  0  0  0  0]\n",
      " [21 15  6 12 -2 11 11 11 11 11  8 -2  9  9  9 -1 10 11 23  0  0  0  0  0]\n",
      " [21 15  6  0  4  0  0  0  0  0  0  7  0  0  0 11 11 11 23  0  0  0  0  0]\n",
      " [21 15  6  0  4  0  0  0  0  0  0  7  0  0  0  0  0  0 23 23 23 23 23 23]\n",
      " [21 15  6  0  4  0  0  0  0  0  0  7  0  0  0  0  0  0  0 16 16 16 16 23]\n",
      " [21 15  6  0  4  0  0  0  0  0  0  7  0  0  0 16 16 16 16 16 31 31 16 23]\n",
      " [21 15  6  3 -1  2  2  2  2  2  2 -1  1  1  1 -2 32 32 32 32 -1 31 16 23]\n",
      " [21 15  6  3  3  0  0  0  0  0  0  6  0  0  0 15  0  0  0  0 30  0 16 23]\n",
      " [21 15  6  6  6  6  6  6  6  6  6  6  0  0  0 15  0  0  0  0 30  0 16 23]\n",
      " [21 15 15 15 15 15 15 15 15 15 15 15 15 15 15 15  0  0  0  0 30  0 16 23]\n",
      " [21 21 21 21 21 21 21 21 21 21 21 21  0 26 26 26 26  0  0  0 30  0 16 23]\n",
      " [ 0  0  0  0  0  0 24 24  0  0  0 21  0 26 27 27 26  0  0  0 30  0 16 23]\n",
      " [ 0  0  0  0  0  0 24 -2 25 25 25 -2 26 26 27 -2 26  0  0  0 30  0 16 23]\n",
      " [ 0  0  0  0  0  0  0 23  0  0  0 20  0  0  0 28  0  0  0  0 30  0 16 23]\n",
      " [ 0  0  0  0  0  0  0 23  0  0  0 20  0  0  0 28  0  0  0  0 30  0 16 23]\n",
      " [ 0  0  0  0  0  0  0 23  0  0 19 -1 18 18 18 -1 17 17 17 17 -1 16 16 23]\n",
      " [ 0  0  0  0  0  0  0 23  0  0 19 19  0  0  0 29 29 29 29 29 29 23 23 23]\n",
      " [ 0  0  0  0  0  0  0 23 23 23 23 23 23 23 23 23 23 23 23 23 23 23  0  0]]\n"
     ]
    }
   ],
   "source": [
    "k = CustomKnot([X(1,2,2,3),\n",
    "          X(3,4,4,5),\n",
    "          X(5,1,6,6)])\n",
    "k.rotate(1)\n",
    "\n",
    "\n",
    "k.createALoop(2,False)\n",
    "k.createALoop(3,False)\n",
    "k.createALoop(2,False)\n",
    "k.createALoop(1,False)\n",
    "k.createALoop(2,False)\n",
    "k.createALoop(5,False)\n",
    "k.createALoop(7,False)\n",
    "\n",
    "\n",
    "print(k.createReidemeisterII(4,9,True))\n",
    "print(k.createReidemeisterII(14,22,True))\n",
    "print(k.createReidemeisterII(13,19,True))\n",
    "print(k)"
   ]
  },
  {
   "cell_type": "code",
   "execution_count": 26,
   "metadata": {},
   "outputs": [
    {
     "name": "stdout",
     "output_type": "stream",
     "text": [
      "True\n",
      "True\n",
      "True\n",
      "True\n",
      "True\n",
      "True\n",
      "True\n",
      "True\n",
      "True\n",
      "True\n",
      "True\n",
      "True\n",
      "True\n",
      "True\n",
      "Cross: [X(1,2,2,1)]\n",
      "Planar Diagrams:\n",
      "[[ 1  1  0]\n",
      " [ 1 -2  2]\n",
      " [ 0  2  2]]\n"
     ]
    },
    {
     "data": {
      "text/plain": [
       "<matplotlib.image.AxesImage at 0x10efd58a0>"
      ]
     },
     "execution_count": 26,
     "metadata": {},
     "output_type": "execute_result"
    },
    {
     "data": {
      "image/png": "[encoded data removed]",
      "text/plain": [
       "<Figure size 432x288 with 1 Axes>"
      ]
     },
     "metadata": {
      "needs_background": "light"
     },
     "output_type": "display_data"
    }
   ],
   "source": [
    "#k = Knot([\n",
    "#  X(1,9,2,8),\n",
    "  #X(2,8,1,9),\n",
    "#  X(3,10,4,11), \n",
    "#  X(5,3,6,2),\n",
    "#  X(7,1,8,12), \n",
    "#  X(9,4,10,5), \n",
    "#  X(11,7,12,6)])\n",
    "#k = Knot([X(1,2,4,1),\n",
    "#         X(2,3,3,4)])\n",
    "#k = Knot([X(1,2,6,1),\n",
    "#          X(4,5,5,6),\n",
    "#          X(2,3,3,4)])\n",
    "k = CustomKnot([X(1,2,2,3),\n",
    "          X(3,4,4,5),\n",
    "          X(5,1,6,6)])\n",
    "k.rotate(1)\n",
    "\n",
    "\n",
    "k.createALoop(2,False)\n",
    "k.createALoop(3,False)\n",
    "k.createALoop(2,False)\n",
    "k.createALoop(1,False)\n",
    "k.createALoop(2,False)\n",
    "k.createALoop(5,False)\n",
    "k.createALoop(7,False)\n",
    "\n",
    "\n",
    "print(k.createReidemeisterII(4,9,True))\n",
    "print(k.createReidemeisterII(14,22,True))\n",
    "print(k.createReidemeisterII(13,19,True))\n",
    "\n",
    "print(k.undoALoop(3))\n",
    "print(k.undoALoop(29))\n",
    "print(k.undoALoop(25))\n",
    "print(k.undoALoop(22))\n",
    "print(k.undoALoop(17))\n",
    "print(k.undoALoop(8))\n",
    "print(k.undoALoop(6))\n",
    "\n",
    "print(k.undoReidemeisterII(2,5))\n",
    "print(k.undoReidemeisterII(8,12))\n",
    "print(k.undoReidemeisterII(6,10))\n",
    "print(k.undoReidemeisterII(4,6))\n",
    "\n",
    "print(k)\n",
    "\n",
    "#print(k.planarDiagramZones())\n",
    "image = k.image()\n",
    "fig, ax = plt.subplots()\n",
    "ax.imshow(image,cmap='gray')\n",
    "\n",
    "\n"
   ]
  },
  {
   "cell_type": "code",
   "execution_count": 27,
   "metadata": {},
   "outputs": [
    {
     "data": {
      "text/plain": [
       "<matplotlib.image.AxesImage at 0x10f0243a0>"
      ]
     },
     "execution_count": 27,
     "metadata": {},
     "output_type": "execute_result"
    },
    {
     "data": {
      "image/png": "[encoded data removed]",
      "text/plain": [
       "<Figure size 432x288 with 1 Axes>"
      ]
     },
     "metadata": {
      "needs_background": "light"
     },
     "output_type": "display_data"
    }
   ],
   "source": [
    "#Imagen ejemplo\n",
    "knot = CustomKnot([X(1,9,2,8),X(3,10,4,11),X(5,3,6,2),X(7,1,8,12),X(9,4,10,5),X(11,7,12,6)])\n",
    "image = knot.image()\n",
    "fig, ax = plt.subplots()#figsize=(image.shape[0]//(51*2),image.shape[1]//(51*2)))\n",
    "ax.imshow(image,cmap='gray')"
   ]
  },
  {
   "cell_type": "code",
   "execution_count": 28,
   "metadata": {},
   "outputs": [
    {
     "name": "stdout",
     "output_type": "stream",
     "text": [
      "<bound method CustomKnot.planarDiagrams of Cross: [X(1,5,2,4), X(1,9,12,10), X(5,10,6,11), X(7,3,8,2), X(8,3,9,4), X(11,6,12,7)]\n",
      "Planar Diagrams:\n",
      "[[ 0  0  0  0  0  9  9  9  9  9  9  9  9]\n",
      " [ 0  0  0  9  9  9  4  4  4  4  4  4  9]\n",
      " [ 0  9  9  9  4  4  4  8  8  8  8  4  9]\n",
      " [12 -2  1  1 -2  2  2 -1  3  3 -1  4  9]\n",
      " [12 10 10 10  5  0  0  7  0  0  9  9  9]\n",
      " [12  0  0 10  5  0  0  7  0  0  0  0  0]\n",
      " [12  0  0 10 -1 11  0  7  0  0  0  0  0]\n",
      " [12  0  0  0  6 11  0  7  0  0  0  0  0]\n",
      " [12  0  0  0  6 11  0  7  0  0  0  0  0]\n",
      " [12 12 12 12 -2 11  0  7  0  0  0  0  0]\n",
      " [ 0  0  0  0  7  7  7  7  0  0  0  0  0]]>\n"
     ]
    },
    {
     "data": {
      "text/plain": [
       "<matplotlib.image.AxesImage at 0x10ef8ee90>"
      ]
     },
     "execution_count": 28,
     "metadata": {},
     "output_type": "execute_result"
    },
    {
     "data": {
      "image/png": "[encoded data removed]",
      "text/plain": [
       "<Figure size 432x288 with 1 Axes>"
      ]
     },
     "metadata": {
      "needs_background": "light"
     },
     "output_type": "display_data"
    }
   ],
   "source": [
    "#Imagen ejemplo\n",
    "knot = CustomKnot([X(1,9,2,8),X(1,3,12,4),X(9,4,10,5),X(5,10,6,11),X(11,6,12,7),X(8,2,7,3)])\n",
    "# knot.createALoop(11,0)\n",
    "# knot.createReidemeisterII(7,11,0)\n",
    "knot.reidemeisterIII(1,4,9)\n",
    "print(knot.planarDiagrams)\n",
    "image = knot.image()\n",
    "fig, ax = plt.subplots()#figsize=(image.shape[0]//(51*2),image.shape[1]//(51*2)))\n",
    "ax.imshow(image,cmap='gray')"
   ]
  },
  {
   "cell_type": "code",
   "execution_count": 29,
   "metadata": {},
   "outputs": [
    {
     "name": "stdout",
     "output_type": "stream",
     "text": [
      "[[ 0  7  7  7  7  7  7  7  0  0]\n",
      " [ 0  7  0  0  0  0 11 -2 12  0]\n",
      " [ 0  7  0  0  0  0 11  6 12  0]\n",
      " [ 0  7  0  0  0  0 11  6 12 12]\n",
      " [ 0  7  0  0  0  0 11 -1 10 12]\n",
      " [ 0  7  0  0  0  0  0  5 10 12]\n",
      " [ 0  7  0  0  0  0  0  5 10 12]\n",
      " [ 0  7  0  0  0  0  9 -2 10 12]\n",
      " [ 0  7  0  0  0  0  9  4  0 12]\n",
      " [ 0  7  0  0  9  9  9  4  0 12]\n",
      " [ 3 -1  2  2 -2  1  1 -2 12 12]\n",
      " [ 3  8  8  8  8  0  0  3  0  0]\n",
      " [ 3  3  3  3  3  3  3  3  0  0]]\n",
      "[[ 0  0  1  1  1  1  1  1  1  1  1  1  1  1  1  0  0  0  0]\n",
      " [ 0  0  1  0  0  0  0  0  0  0  0  0  0  0  1  0  0  0  0]\n",
      " [ 0  0  1  0  0  0  0  0  0  0  0  0  1  1 -2  1  1  0  0]\n",
      " [ 0  0  1  0  0  0  0  0  0  0  0  0  1  0  1  0  1  0  0]\n",
      " [ 0  0  1  0  0  0  0  0  0  0  0  0  1  0  1  0  1  0  0]\n",
      " [ 0  0  1  0  0  0  0  0  0  0  0  0  1  0  1  0  1  0  0]\n",
      " [ 0  0  1  0  0  0  0  0  0  0  0  0  1  0  1  0  1  1  1]\n",
      " [ 0  0  1  0  0  0  0  0  0  0  0  0  1  0  1  0  0  0  1]\n",
      " [ 0  0  1  0  0  0  0  0  0  0  0  0  1  1 -1  1  1  0  1]\n",
      " [ 0  0  1  0  0  0  0  0  0  0  0  0  0  0  1  0  1  0  1]\n",
      " [ 0  0  1  0  0  0  0  0  0  0  0  0  0  0  1  0  1  0  1]\n",
      " [ 0  0  1  0  0  0  0  0  0  0  0  0  0  0  1  0  1  0  1]\n",
      " [ 0  0  1  0  0  0  0  0  0  0  0  0  0  0  1  0  1  0  1]\n",
      " [ 0  0  1  0  0  0  0  0  0  0  0  0  0  0  1  0  1  0  1]\n",
      " [ 0  0  1  0  0  0  0  0  0  0  0  0  1  1 -2  1  1  0  1]\n",
      " [ 0  0  1  0  0  0  0  0  0  0  0  0  1  0  1  0  0  0  1]\n",
      " [ 0  0  1  0  0  0  0  0  0  0  0  0  1  0  1  0  0  0  1]\n",
      " [ 0  0  1  0  0  0  0  0  0  0  0  0  1  0  1  0  0  0  1]\n",
      " [ 0  0  1  0  0  0  0  0  1  1  1  1  1  0  1  0  0  0  1]\n",
      " [ 0  0  1  0  0  0  0  0  1  0  0  0  0  0  1  0  0  0  1]\n",
      " [ 1  1 -1  1  1  1  1  1 -2  1  1  1  1  1 -2  1  1  1  1]\n",
      " [ 1  0  1  0  0  0  0  0  1  0  0  0  0  0  1  0  0  0  0]\n",
      " [ 1  0  1  1  1  1  1  1  1  0  0  0  0  0  1  0  0  0  0]\n",
      " [ 1  0  0  0  0  0  0  0  0  0  0  0  0  0  1  0  0  0  0]\n",
      " [ 1  1  1  1  1  1  1  1  1  1  1  1  1  1  1  0  0  0  0]]\n"
     ]
    }
   ],
   "source": [
    "k = CustomKnot([X(1,9,2,8),X(1,3,12,4),X(9,4,10,5),X(5,10,6,11),X(11,6,12,7),X(8,2,7,3)])\n",
    "print(k.planarDiagrams())\n",
    "print(k.simplePlanarDiagram())"
   ]
  },
  {
   "cell_type": "code",
   "execution_count": 13,
   "metadata": {},
   "outputs": [],
   "source": [
    "k_3_1 = knotFromPyknotid('3_1')"
   ]
  },
  {
   "cell_type": "code",
   "execution_count": 16,
   "metadata": {},
   "outputs": [
    {
     "data": {
      "text/plain": [
       "<matplotlib.image.AxesImage at 0x1243c7df0>"
      ]
     },
     "execution_count": 16,
     "metadata": {},
     "output_type": "execute_result"
    },
    {
     "data": {
      "image/png": "[encoded data removed]",
      "text/plain": [
       "<Figure size 432x288 with 1 Axes>"
      ]
     },
     "metadata": {
      "needs_background": "light"
     },
     "output_type": "display_data"
    }
   ],
   "source": [
    "k_3_1.crosses\n",
    "image = k_3_1.image()\n",
    "fig, ax = plt.subplots()#figsize=(image.shape[0]//(51*2),image.shape[1]//(51*2)))\n",
    "ax.imshow(image,cmap='gray')"
   ]
  },
  {
   "cell_type": "code",
   "execution_count": 17,
   "metadata": {},
   "outputs": [
    {
     "name": "stdout",
     "output_type": "stream",
     "text": [
      "[[ 0  0  0  0  0  0  1  1  1  1  1  1  1  1  1  1  1]\n",
      " [ 0  0  0  0  0  0  1  0  0  0  0  0  0  0  0  0  1]\n",
      " [ 0  0  1  1  1  1  1  0  1  1  1  1  1  1  1  0  1]\n",
      " [ 0  0  1  0  0  0  0  0  1  0  0  0  0  0  1  0  1]\n",
      " [ 1  1 -1  1  1  1  1  1 -2  1  1  1  1  1 -1  1  1]\n",
      " [ 1  0  1  0  0  0  0  0  1  0  0  0  0  0  1  0  0]\n",
      " [ 1  0  1  1  1  1  1  1  1  0  0  0  0  0  1  0  0]\n",
      " [ 1  0  0  0  0  0  0  0  0  0  0  0  0  0  1  0  0]\n",
      " [ 1  1  1  1  1  1  1  1  1  1  1  1  1  1  1  0  0]]\n"
     ]
    }
   ],
   "source": [
    "print(k_3_1.simplePlanarDiagram())"
   ]
  },
  {
   "cell_type": "code",
   "execution_count": 3,
   "metadata": {},
   "outputs": [
    {
     "name": "stdout",
     "output_type": "stream",
     "text": [
      "27.63636363636364\n",
      "reidemeisterIII(1,19,11,check=False)\n",
      "24.55454545454546\n",
      "undoReidemeisterII(10,20)\n",
      "15.2\n",
      "reidemeisterIII(7,11,3,check=False)\n",
      "18.3\n",
      "reidemeisterIII(8,18,10,check=False)\n",
      "23.51111111111111\n",
      "undoALoop(9)\n",
      "19.5\n",
      "reidemeisterIII(10,2,14,check=False)\n",
      "18.475\n",
      "createALoop(9,3)\n",
      "24.144444444444442\n",
      "reidemeisterIII(11,17,9,check=False)\n",
      "18.244444444444444\n",
      "reidemeisterIII(12,8,1,check=False)\n",
      "16.01111111111111\n",
      "undoReidemeisterII(11,18)\n",
      "8.142857142857142\n",
      "createALoop(9,2)\n",
      "12.35\n",
      "reidemeisterIII(9,1,11,check=False)\n",
      "18.45\n",
      "reidemeisterIII(2,10,16,check=False)\n",
      "10.425\n",
      "undoALoop(1)\n",
      "1.4\n",
      "True\n"
     ]
    }
   ],
   "source": [
    "k1 = CustomKnot([X(1,4,2,5), X(3,8,4,9), X(5,12,6,13), X(7,2,8,3), X(9,1,10,14), X(11,6,12,7), X(13,11,14,10)]) # 7_6\n",
    "k2 = CustomKnot([X(1,10,2,11), X(1,19,22,20), X(4,15,5,16), X(6,14,7,13), X(7,2,8,3), X(8,21,9,22), X(12,4,13,3), X(14,17,15,18), X(16,5,17,6), X(18,12,19,11), X(20,9,21,10)]) # 7_6 newRandom 10000 simplificado\n",
    "\n",
    "print(difference(k2,k1))\n",
    "k2.reidemeisterIII(1,19,11,check=False)\n",
    "print(\"reidemeisterIII(1,19,11,check=False)\")\n",
    "print(difference(k2,k1)+0.1)\n",
    "k2.undoReidemeisterII(10,20)\n",
    "print(\"undoReidemeisterII(10,20)\")\n",
    "print(difference(k2,k1)+0.2)\n",
    "k2.reidemeisterIII(7,11,3,check=False)\n",
    "print(\"reidemeisterIII(7,11,3,check=False)\")\n",
    "print(difference(k2,k1)+0.3)\n",
    "k2.reidemeisterIII(8,18,10,check=False)\n",
    "print(\"reidemeisterIII(8,18,10,check=False)\")\n",
    "print(difference(k2,k1)+0.4)\n",
    "k2.undoALoop(9)\n",
    "print(\"undoALoop(9)\")\n",
    "print(difference(k2,k1)+0.5)\n",
    "k2.reidemeisterIII(10,2,14,check=False)\n",
    "print(\"reidemeisterIII(10,2,14,check=False)\")\n",
    "print(difference(k2,k1)+0.6)\n",
    "k2.createALoop(9,3)\n",
    "print(\"createALoop(9,3)\")\n",
    "print(difference(k2,k1)+0.7)\n",
    "k2.reidemeisterIII(11,17,9,check=False)\n",
    "print(\"reidemeisterIII(11,17,9,check=False)\")\n",
    "print(difference(k2,k1)+0.8)\n",
    "k2.reidemeisterIII(12,8,1,check=False)\n",
    "print(\"reidemeisterIII(12,8,1,check=False)\")\n",
    "print(difference(k2,k1)+0.9)\n",
    "k2.undoReidemeisterII(11,18)\n",
    "print(\"undoReidemeisterII(11,18)\")\n",
    "print(difference(k2,k1)+1.0)\n",
    "k2.createALoop(9,2)\n",
    "print(\"createALoop(9,2)\")\n",
    "print(difference(k2,k1)+1.1)\n",
    "k2.reidemeisterIII(9,1,11,check=False)\n",
    "print(\"reidemeisterIII(9,1,11,check=False)\")\n",
    "print(difference(k2,k1)+1.2)\n",
    "k2.reidemeisterIII(2,10,16,check=False)\n",
    "print(\"reidemeisterIII(2,10,16,check=False)\")\n",
    "print(difference(k2,k1)+1.3)\n",
    "k2.undoALoop(1)\n",
    "print(\"undoALoop(1)\")\n",
    "print(difference(k2,k1)+1.4)\n",
    "\n",
    "print(k2 == k1)"
   ]
  },
  {
   "cell_type": "code",
   "execution_count": 4,
   "metadata": {},
   "outputs": [],
   "source": [
    "k = CustomKnot([X(1,4,2,5), X(3,8,4,9), X(5,12,6,13), X(7,2,8,3), X(9,1,10,14), X(11,6,12,7), X(13,11,14,10)]) # 7_6\n",
    "k2 = CustomKnot([X(1,10,2,11), X(1,19,22,20), X(4,15,5,16), X(6,14,7,13), X(7,2,8,3), X(8,21,9,22), X(12,4,13,3), X(14,17,15,18), X(16,5,17,6), X(18,12,19,11), X(20,9,21,10)]) # 7_6 newRandom 10000 simplificado\n",
    "\n",
    "n = NodeKnot(k)\n",
    "maxJ = 3000"
   ]
  },
  {
   "cell_type": "code",
   "execution_count": 5,
   "metadata": {},
   "outputs": [
    {
     "name": "stdout",
     "output_type": "stream",
     "text": [
      "Set:  3001 1664 12.251937627792358\n",
      "simpleSet 3001 1664 11.040940046310425\n"
     ]
    }
   ],
   "source": [
    "#Pruebas para set o simpleSet\n",
    "s = set()\n",
    "start = time()\n",
    "j=0\n",
    "i=0\n",
    "for successor in n.deepSuccessors(1,100):\n",
    "    if not successor.knot.representationForHash in s:\n",
    "        s.add(successor.knot.representationForHash)\n",
    "        i+=1\n",
    "    if j>maxJ: break\n",
    "    j+=1\n",
    "print(\"Set: \", j,i,time()-start)\n",
    "\n",
    "s = simpleSet()\n",
    "start = time()\n",
    "j=0\n",
    "i=0\n",
    "for successor in n.deepSuccessors(1,100):\n",
    "    if s.add(successor.knot.representationForHash):\n",
    "        i+=1\n",
    "    if j>maxJ: break\n",
    "    j+=1\n",
    "print(\"simpleSet\", j,i,time()-start)\n"
   ]
  },
  {
   "cell_type": "code",
   "execution_count": 6,
   "metadata": {},
   "outputs": [
    {
     "name": "stdout",
     "output_type": "stream",
     "text": [
      "pruebas para difference o DifferenceSimpleCache\n",
      "0 0\n",
      "1000 617\n",
      "2000 1149\n",
      "3000 1663\n",
      "0 1663\n",
      "1000 1663\n",
      "2000 1663\n",
      "3000 1663\n",
      "Resultados con DifferenceSimpleCache\n",
      "3000 1663 43.54539489746094 s\n",
      "----\n",
      "0\n",
      "1000\n",
      "2000\n",
      "3000\n",
      "0\n",
      "1000\n",
      "2000\n",
      "3000\n",
      "Resultados con difference\n",
      "3000 78.45209813117981 s\n"
     ]
    }
   ],
   "source": [
    "\n",
    "print(\"pruebas para difference o DifferenceSimpleCache\")\n",
    "dif = DifferenceSimpleCache(k2)\n",
    "i=0\n",
    "j=0\n",
    "start = time()\n",
    "for successor in n.deepSuccessors(1,100):\n",
    "    if j%1000 == 0:print(j, len(dif.differences))\n",
    "    j+=1\n",
    "    if j>maxJ:\n",
    "        break\n",
    "    s = dif[successor.knot]\n",
    "    i+=1\n",
    "i=0\n",
    "j=0\n",
    "for successor in n.deepSuccessors(1,100):\n",
    "    if j%1000 == 0:print(j, len(dif.differences))\n",
    "    j+=1\n",
    "    if j>maxJ:\n",
    "        break\n",
    "    s = dif[successor.knot]\n",
    "    i+=1\n",
    "end = time()\n",
    "print(\"Resultados con DifferenceSimpleCache\")\n",
    "print(i, len(dif.differences), end-start,\"s\")\n",
    "print(\"----\")\n",
    "start = time()\n",
    "i=0\n",
    "j=0\n",
    "for successor in n.deepSuccessors(1,100):\n",
    "    if j%1000 == 0:print(j)\n",
    "    j+=1\n",
    "    if j>maxJ:\n",
    "        break\n",
    "    s = difference(successor.knot,k2) \n",
    "    i+=1\n",
    "i=0\n",
    "j=0\n",
    "for successor in n.deepSuccessors(1,100):\n",
    "    if j%1000 == 0:print(j)\n",
    "    j+=1\n",
    "    if j>maxJ:\n",
    "        break\n",
    "    s = difference(successor.knot,k2) \n",
    "    i+=1\n",
    "end = time()\n",
    "print(\"Resultados con difference\")\n",
    "print(i , end-start,\"s\")\n"
   ]
  },
  {
   "cell_type": "code",
   "execution_count": null,
   "metadata": {},
   "outputs": [],
   "source": []
  }
 ],
 "metadata": {
  "kernelspec": {
   "display_name": "Python 3.10.4 64-bit",
   "language": "python",
   "name": "python3"
  },
  "language_info": {
   "codemirror_mode": {
    "name": "ipython",
    "version": 3
   },
   "file_extension": ".py",
   "mimetype": "text/x-python",
   "name": "python",
   "nbconvert_exporter": "python",
   "pygments_lexer": "ipython3",
   "version": "3.10.4"
  },
  "orig_nbformat": 4,
  "vscode": {
   "interpreter": {
    "hash": "aee8b7b246df8f9039afb4144a1f6fd8d2ca17a180786b69acc140d282b71a49"
   }
  }
 },
 "nbformat": 4,
 "nbformat_minor": 2
}
