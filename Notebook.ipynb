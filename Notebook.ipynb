{
 "cells": [
  {
   "cell_type": "code",
   "execution_count": 1,
   "metadata": {},
   "outputs": [],
   "source": [
    "from IPython.display import clear_output\n",
    "from copy import copy,deepcopy \n",
    "import numpy as np \n",
    "import matplotlib.pyplot as plt \n",
    "import pandas as pd\n",
    "from Path import *\n",
    "from CustomKnot import *\n",
    "from CustomDatabase import *\n",
    "from KnotStar import *\n",
    "from random import *\n",
    "from KnotGA import *\n",
    "np.set_printoptions(threshold=np.inf,linewidth=np.inf,nanstr=\"n\")\n",
    "pd.options.display.max_colwidth = 100\n",
    "\n"
   ]
  },
  {
   "cell_type": "code",
   "execution_count": 5,
   "metadata": {},
   "outputs": [
    {
     "name": "stdout",
     "output_type": "stream",
     "text": [
      "init similarity 69.71428571428571\n",
      "Generation  1\n",
      "  maxSimilarity:  69.71428571428571                              \n",
      "  minSimilarity:  69.71428571428571\n",
      "newPopulation len 50\n",
      "Generation  2                                                    \n",
      "  maxSimilarity:  69.71428571428571                              \n",
      "  minSimilarity:  69.71428571428571\n",
      "newPopulation len 50\n",
      "Generation  3                                                    \n",
      "  maxSimilarity:  69.71428571428571                              \n",
      "  minSimilarity:  69.71428571428571\n",
      "newPopulation len 50\n",
      "Generation  4                                                    \n",
      "  maxSimilarity:  71.75                                          \n",
      "  minSimilarity:  69.71428571428571\n",
      "newPopulation len 50\n",
      "Generation  5                                                    \n",
      "  maxSimilarity:  69.71428571428571                              \n",
      "  minSimilarity:  69.71428571428571\n",
      "newPopulation len 50\n",
      "Generation  6                                                    \n",
      "  maxSimilarity:  69.71428571428571                              \n",
      "  minSimilarity:  69.71428571428571\n",
      "newPopulation len 50\n",
      "Generation  7                                                    \n",
      "  maxSimilarity:  72.75                                          \n",
      "  minSimilarity:  69.71428571428571\n",
      "newPopulation len 50\n",
      "Generation  8                                                    \n",
      "  maxSimilarity:  73.5                                           \n",
      "  minSimilarity:  69.71428571428571\n",
      "newPopulation len 50\n",
      "Generation  9                                                    \n",
      "  maxSimilarity:  74.75                                          \n",
      "  minSimilarity:  69.71428571428571\n",
      "newPopulation len 50\n",
      "Generation  10                                                   \n",
      "  maxSimilarity:  83.77777777777777                              \n",
      "  minSimilarity:  69.71428571428571\n",
      "newPopulation len 50\n",
      "                                                                 \r"
     ]
    },
    {
     "data": {
      "text/plain": [
       "(False, None)"
      ]
     },
     "execution_count": 5,
     "metadata": {},
     "output_type": "execute_result"
    }
   ],
   "source": [
    "k1 = CustomKnot([X(1,4,2,5), X(3,8,4,9), X(5,12,6,13), X(7,2,8,3), X(9,1,10,14), X(11,6,12,7), X(13,11,14,10)]) # 7_6\n",
    "k2 = CustomKnot([X(1,10,2,11), X(1,19,22,20), X(4,15,5,16), X(6,14,7,13), X(7,2,8,3), X(8,21,9,22), X(12,4,13,3), X(14,17,15,18), X(16,5,17,6), X(18,12,19,11), X(20,9,21,10)]) # 7_6 newRandom 10000 simplificado\n",
    "print(\"init similarity\", similarity(k1,k2))\n",
    "\n",
    "areSameKnotGA(k1,k2,numberOfIndividuals=100,numberOfGenerations=100)"
   ]
  },
  {
   "cell_type": "code",
   "execution_count": 4,
   "metadata": {},
   "outputs": [
    {
     "name": "stdout",
     "output_type": "stream",
     "text": [
      "Generation  1\n",
      "  maxSimilarity:  63.599999999999994                             \n",
      "  minSimilarity:  31.5\n",
      "Generation  2                                                    \n",
      "  maxSimilarity:  71.6                                           \n",
      "  minSimilarity:  31.5\n",
      "Generation  3                                                    \n",
      "  maxSimilarity:  64.6                                           \n",
      "  minSimilarity:  31.5\n",
      "Generation  4                                                    \n",
      "  maxSimilarity:  69                                             \n",
      "  minSimilarity:  31.5\n",
      "Generation  5                                                    \n",
      "  maxSimilarity:  67.6                                           \n",
      "  minSimilarity:  31.5\n",
      "Generation  6                                                    \n",
      "  maxSimilarity:  66.6                                           \n",
      "  minSimilarity:  31.5\n",
      "Generation  7                                                    \n",
      "  maxSimilarity:  72                                             \n",
      "  minSimilarity:  31.5\n",
      "Generation  8                                                    \n",
      "  maxSimilarity:  72                                             \n",
      "  minSimilarity:  31.5\n",
      "Generation  9                                                    \n",
      "  percentage selection calculate Similarity: 35.20   \r"
     ]
    },
    {
     "ename": "KeyboardInterrupt",
     "evalue": "",
     "output_type": "error",
     "traceback": [
      "\u001b[0;31m---------------------------------------------------------------------------\u001b[0m",
      "\u001b[0;31mKeyboardInterrupt\u001b[0m                         Traceback (most recent call last)",
      "\u001b[1;32m/Users/jeronimocabezueloruiz/MEGA/UNIR/TRABAJOFINMASTER/2022/KnotIA/Notebook.ipynb Cell 2'\u001b[0m in \u001b[0;36m<cell line: 5>\u001b[0;34m()\u001b[0m\n\u001b[1;32m      <a href='vscode-notebook-cell:/Users/jeronimocabezueloruiz/MEGA/UNIR/TRABAJOFINMASTER/2022/KnotIA/Notebook.ipynb#ch0000001?line=1'>2</a>\u001b[0m k2 \u001b[39m=\u001b[39m CustomKnot([X(\u001b[39m2\u001b[39m,\u001b[39m8\u001b[39m,\u001b[39m1\u001b[39m,\u001b[39m9\u001b[39m),X(\u001b[39m7\u001b[39m,\u001b[39m3\u001b[39m,\u001b[39m8\u001b[39m,\u001b[39m2\u001b[39m),X(\u001b[39m4\u001b[39m,\u001b[39m6\u001b[39m,\u001b[39m3\u001b[39m,\u001b[39m7\u001b[39m),X(\u001b[39m4\u001b[39m,\u001b[39m9\u001b[39m,\u001b[39m5\u001b[39m,\u001b[39m10\u001b[39m),X(\u001b[39m10\u001b[39m,\u001b[39m5\u001b[39m,\u001b[39m1\u001b[39m,\u001b[39m6\u001b[39m)])\n\u001b[1;32m      <a href='vscode-notebook-cell:/Users/jeronimocabezueloruiz/MEGA/UNIR/TRABAJOFINMASTER/2022/KnotIA/Notebook.ipynb#ch0000001?line=3'>4</a>\u001b[0m \u001b[39m#areSameKnots(k1,k2,maxCrosses=100,debug=2)\u001b[39;00m\n\u001b[0;32m----> <a href='vscode-notebook-cell:/Users/jeronimocabezueloruiz/MEGA/UNIR/TRABAJOFINMASTER/2022/KnotIA/Notebook.ipynb#ch0000001?line=4'>5</a>\u001b[0m areSameKnotGA(k1,k2,numberOfIndividuals\u001b[39m=\u001b[39;49m\u001b[39m1000\u001b[39;49m,numberOfGenerations\u001b[39m=\u001b[39;49m\u001b[39m20\u001b[39;49m)\n",
      "File \u001b[0;32m~/MEGA/UNIR/TRABAJOFINMASTER/2022/KnotIA/KnotGA.py:244\u001b[0m, in \u001b[0;36mareSameKnotGA\u001b[0;34m(knot1, knot2, numberOfIndividuals, numberOfGenerations)\u001b[0m\n\u001b[1;32m    242\u001b[0m c\u001b[39m+\u001b[39m\u001b[39m=\u001b[39m\u001b[39m1\u001b[39m\n\u001b[1;32m    243\u001b[0m \u001b[39mprint\u001b[39m(\u001b[39m\"\u001b[39m\u001b[39mGeneration \u001b[39m\u001b[39m\"\u001b[39m, c)\n\u001b[0;32m--> 244\u001b[0m a \u001b[39m=\u001b[39m population\u001b[39m.\u001b[39;49mnewGeneration()\n\u001b[1;32m    245\u001b[0m \u001b[39mif\u001b[39;00m a \u001b[39m!=\u001b[39m \u001b[39mNone\u001b[39;00m:\n\u001b[1;32m    246\u001b[0m     \u001b[39mreturn\u001b[39;00m \u001b[39mTrue\u001b[39;00m, a\n",
      "File \u001b[0;32m~/MEGA/UNIR/TRABAJOFINMASTER/2022/KnotIA/KnotGA.py:231\u001b[0m, in \u001b[0;36mPopulationKnot.newGeneration\u001b[0;34m(self, percentage)\u001b[0m\n\u001b[1;32m    230\u001b[0m \u001b[39mdef\u001b[39;00m \u001b[39mnewGeneration\u001b[39m(\u001b[39mself\u001b[39m, percentage: \u001b[39mint\u001b[39m \u001b[39m=\u001b[39m \u001b[39m50\u001b[39m):\n\u001b[0;32m--> 231\u001b[0m     a \u001b[39m=\u001b[39m \u001b[39mself\u001b[39;49m\u001b[39m.\u001b[39;49mselection(percentage\u001b[39m=\u001b[39;49mpercentage)\n\u001b[1;32m    232\u001b[0m     \u001b[39mif\u001b[39;00m a \u001b[39m!=\u001b[39m \u001b[39mNone\u001b[39;00m:\n\u001b[1;32m    233\u001b[0m         \u001b[39mreturn\u001b[39;00m a\n",
      "File \u001b[0;32m~/MEGA/UNIR/TRABAJOFINMASTER/2022/KnotIA/KnotGA.py:181\u001b[0m, in \u001b[0;36mPopulationKnot.selection\u001b[0;34m(self, percentage)\u001b[0m\n\u001b[1;32m    178\u001b[0m computedKnot, moves \u001b[39m=\u001b[39m individual\u001b[39m.\u001b[39mcomputedKnot\n\u001b[1;32m    179\u001b[0m \u001b[39m#end = time()\u001b[39;00m\n\u001b[1;32m    180\u001b[0m \u001b[39m#print(\"time individual computedKnot\", end-start)\u001b[39;00m\n\u001b[0;32m--> 181\u001b[0m similar \u001b[39m=\u001b[39m \u001b[39mself\u001b[39;49m\u001b[39m.\u001b[39;49msimilarities[computedKnot]\n\u001b[1;32m    182\u001b[0m \u001b[39m#end = time()\u001b[39;00m\n\u001b[1;32m    183\u001b[0m \u001b[39m#print(\"time individual similarities\", end-start)\u001b[39;00m\n\u001b[1;32m    184\u001b[0m \u001b[39m#print(similar,moves)\u001b[39;00m\n\u001b[1;32m    185\u001b[0m \u001b[39mif\u001b[39;00m similar \u001b[39m==\u001b[39m \u001b[39m0\u001b[39m \u001b[39mor\u001b[39;00m computedKnot \u001b[39m==\u001b[39m \u001b[39mself\u001b[39m\u001b[39m.\u001b[39mobjetiveKnot:\n\u001b[1;32m    186\u001b[0m     \u001b[39m#print()\u001b[39;00m\n",
      "File \u001b[0;32m~/MEGA/UNIR/TRABAJOFINMASTER/2022/KnotIA/KnotStar.py:257\u001b[0m, in \u001b[0;36mSimilarity.__getitem__\u001b[0;34m(self, knot)\u001b[0m\n\u001b[1;32m    255\u001b[0m \u001b[39mdef\u001b[39;00m \u001b[39m__getitem__\u001b[39m(\u001b[39mself\u001b[39m, knot:CustomKnot):\n\u001b[1;32m    256\u001b[0m     \u001b[39m#start = time()\u001b[39;00m\n\u001b[0;32m--> 257\u001b[0m     h \u001b[39m=\u001b[39m \u001b[39mhash\u001b[39;49m(knot)\n\u001b[1;32m    258\u001b[0m     \u001b[39mif\u001b[39;00m h \u001b[39min\u001b[39;00m \u001b[39mself\u001b[39m\u001b[39m.\u001b[39msimilarities\u001b[39m.\u001b[39mkeys():\n\u001b[1;32m    259\u001b[0m         tuples \u001b[39m=\u001b[39m \u001b[39mself\u001b[39m\u001b[39m.\u001b[39msimilarities[h]\n",
      "File \u001b[0;32m~/MEGA/UNIR/TRABAJOFINMASTER/2022/KnotIA/CustomKnot.py:79\u001b[0m, in \u001b[0;36mCustomKnot.__hash__\u001b[0;34m(self)\u001b[0m\n\u001b[1;32m     77\u001b[0m \u001b[39mdef\u001b[39;00m \u001b[39m__hash__\u001b[39m(\u001b[39mself\u001b[39m):\n\u001b[1;32m     78\u001b[0m     \u001b[39m#start = time()\u001b[39;00m\n\u001b[0;32m---> 79\u001b[0m     s \u001b[39m=\u001b[39m \u001b[39mset\u001b[39m([k\u001b[39m.\u001b[39mcrosses\u001b[39m.\u001b[39m\u001b[39m__repr__\u001b[39m() \u001b[39mfor\u001b[39;00m k \u001b[39min\u001b[39;00m \u001b[39mself\u001b[39;49m\u001b[39m.\u001b[39;49mallRotation()])\n\u001b[1;32m     80\u001b[0m     a \u001b[39m=\u001b[39m \u001b[39mlist\u001b[39m(s)\n\u001b[1;32m     81\u001b[0m     a \u001b[39m=\u001b[39m \u001b[39msorted\u001b[39m(a)\n",
      "File \u001b[0;32m~/MEGA/UNIR/TRABAJOFINMASTER/2022/KnotIA/CustomKnot.py:73\u001b[0m, in \u001b[0;36mCustomKnot.allRotation\u001b[0;34m(self)\u001b[0m\n\u001b[1;32m     71\u001b[0m     \u001b[39mfor\u001b[39;00m _ \u001b[39min\u001b[39;00m \u001b[39mrange\u001b[39m(n):\n\u001b[1;32m     72\u001b[0m         aux\u001b[39m.\u001b[39mappend(deepcopy(uno))\n\u001b[0;32m---> 73\u001b[0m         uno\u001b[39m.\u001b[39;49mrotate(n\u001b[39m=\u001b[39;49mn)\n\u001b[1;32m     74\u001b[0m     uno\u001b[39m.\u001b[39minverse(n\u001b[39m=\u001b[39mn)\n\u001b[1;32m     75\u001b[0m \u001b[39mreturn\u001b[39;00m aux\n",
      "File \u001b[0;32m~/MEGA/UNIR/TRABAJOFINMASTER/2022/KnotIA/CustomKnot.py:112\u001b[0m, in \u001b[0;36mCustomKnot.rotate\u001b[0;34m(self, i, n)\u001b[0m\n\u001b[1;32m    110\u001b[0m     \u001b[39mfor\u001b[39;00m i_p \u001b[39min\u001b[39;00m \u001b[39mrange\u001b[39m(\u001b[39mlen\u001b[39m(\u001b[39mself\u001b[39m\u001b[39m.\u001b[39mcrosses[i_c]\u001b[39m.\u001b[39mstrands)):\n\u001b[1;32m    111\u001b[0m         \u001b[39mself\u001b[39m\u001b[39m.\u001b[39mcrosses[i_c]\u001b[39m.\u001b[39mstrands[i_p] \u001b[39m=\u001b[39m  mod((\u001b[39mself\u001b[39m\u001b[39m.\u001b[39mcrosses[i_c]\u001b[39m.\u001b[39mstrands[i_p]\u001b[39m+\u001b[39mi),n)\n\u001b[0;32m--> 112\u001b[0m \u001b[39mself\u001b[39;49m\u001b[39m.\u001b[39;49misKnotValid()\n\u001b[1;32m    113\u001b[0m \u001b[39mself\u001b[39m\u001b[39m.\u001b[39mpd \u001b[39m=\u001b[39m \u001b[39mNone\u001b[39;00m\n\u001b[1;32m    114\u001b[0m \u001b[39mself\u001b[39m\u001b[39m.\u001b[39mpdz \u001b[39m=\u001b[39m \u001b[39mNone\u001b[39;00m\n",
      "File \u001b[0;32m~/MEGA/UNIR/TRABAJOFINMASTER/2022/KnotIA/CustomKnot.py:97\u001b[0m, in \u001b[0;36mCustomKnot.isKnotValid\u001b[0;34m(self)\u001b[0m\n\u001b[1;32m     95\u001b[0m     cross\u001b[39m.\u001b[39msort()\n\u001b[1;32m     96\u001b[0m \u001b[39mself\u001b[39m\u001b[39m.\u001b[39mcrosses \u001b[39m=\u001b[39m \u001b[39msorted\u001b[39m(\u001b[39mself\u001b[39m\u001b[39m.\u001b[39mcrosses)\n\u001b[0;32m---> 97\u001b[0m (unique, counts) \u001b[39m=\u001b[39m np\u001b[39m.\u001b[39;49munique([l \u001b[39mfor\u001b[39;49;00m cross \u001b[39min\u001b[39;49;00m \u001b[39mself\u001b[39;49m\u001b[39m.\u001b[39;49mcrosses \u001b[39mfor\u001b[39;49;00m l \u001b[39min\u001b[39;49;00m cross\u001b[39m.\u001b[39;49mstrands], return_counts\u001b[39m=\u001b[39;49m\u001b[39mTrue\u001b[39;49;00m)\n\u001b[1;32m     98\u001b[0m \u001b[39mfor\u001b[39;00m c \u001b[39min\u001b[39;00m counts:\n\u001b[1;32m     99\u001b[0m     \u001b[39mif\u001b[39;00m c\u001b[39m!=\u001b[39m\u001b[39m2\u001b[39m:\n",
      "File \u001b[0;32m<__array_function__ internals>:180\u001b[0m, in \u001b[0;36munique\u001b[0;34m(*args, **kwargs)\u001b[0m\n",
      "File \u001b[0;32m/Library/Frameworks/Python.framework/Versions/3.10/lib/python3.10/site-packages/numpy/lib/arraysetops.py:272\u001b[0m, in \u001b[0;36munique\u001b[0;34m(ar, return_index, return_inverse, return_counts, axis)\u001b[0m\n\u001b[1;32m    270\u001b[0m ar \u001b[39m=\u001b[39m np\u001b[39m.\u001b[39masanyarray(ar)\n\u001b[1;32m    271\u001b[0m \u001b[39mif\u001b[39;00m axis \u001b[39mis\u001b[39;00m \u001b[39mNone\u001b[39;00m:\n\u001b[0;32m--> 272\u001b[0m     ret \u001b[39m=\u001b[39m _unique1d(ar, return_index, return_inverse, return_counts)\n\u001b[1;32m    273\u001b[0m     \u001b[39mreturn\u001b[39;00m _unpack_tuple(ret)\n\u001b[1;32m    275\u001b[0m \u001b[39m# axis was specified and not None\u001b[39;00m\n",
      "File \u001b[0;32m/Library/Frameworks/Python.framework/Versions/3.10/lib/python3.10/site-packages/numpy/lib/arraysetops.py:359\u001b[0m, in \u001b[0;36m_unique1d\u001b[0;34m(ar, return_index, return_inverse, return_counts)\u001b[0m\n\u001b[1;32m    357\u001b[0m     ret \u001b[39m+\u001b[39m\u001b[39m=\u001b[39m (inv_idx,)\n\u001b[1;32m    358\u001b[0m \u001b[39mif\u001b[39;00m return_counts:\n\u001b[0;32m--> 359\u001b[0m     idx \u001b[39m=\u001b[39m np\u001b[39m.\u001b[39;49mconcatenate(np\u001b[39m.\u001b[39;49mnonzero(mask) \u001b[39m+\u001b[39;49m ([mask\u001b[39m.\u001b[39;49msize],))\n\u001b[1;32m    360\u001b[0m     ret \u001b[39m+\u001b[39m\u001b[39m=\u001b[39m (np\u001b[39m.\u001b[39mdiff(idx),)\n\u001b[1;32m    361\u001b[0m \u001b[39mreturn\u001b[39;00m ret\n",
      "File \u001b[0;32m<__array_function__ internals>:179\u001b[0m, in \u001b[0;36mconcatenate\u001b[0;34m(*args, **kwargs)\u001b[0m\n",
      "\u001b[0;31mKeyboardInterrupt\u001b[0m: "
     ]
    }
   ],
   "source": [
    "k1 = CustomKnot([X(6,8,5,1),X(7,2,8,3),X(3,6,4,7),X(2,4,1,5)])\n",
    "k2 = CustomKnot([X(2,8,1,9),X(7,3,8,2),X(4,6,3,7),X(4,9,5,10),X(10,5,1,6)])\n",
    "\n",
    "#areSameKnots(k1,k2,maxCrosses=100,debug=2)\n",
    "areSameKnotGA(k1,k2,numberOfIndividuals=500,numberOfGenerations=60)"
   ]
  },
  {
   "cell_type": "code",
   "execution_count": 6,
   "metadata": {},
   "outputs": [
    {
     "data": {
      "text/plain": [
       "16.0"
      ]
     },
     "execution_count": 6,
     "metadata": {},
     "output_type": "execute_result"
    }
   ],
   "source": [
    "k1 = knotFromPyknotid(\"3_1\")\n",
    "k2 = deepcopy(k1)\n",
    "k2.crateALoop(5,3)\n",
    "similarity(k1,k2)"
   ]
  },
  {
   "cell_type": "code",
   "execution_count": 10,
   "metadata": {},
   "outputs": [
    {
     "name": "stdout",
     "output_type": "stream",
     "text": [
      "Generation  1\n",
      "  maxSimilarity:  113                                            \n",
      "  minSimilarity:  60.55555555555557\n",
      "Generation  2                                                    \n",
      "  maxSimilarity:  113                                            \n",
      "  minSimilarity:  60.55555555555557\n",
      "Generation  3                                                    \n",
      "  maxSimilarity:  112.81818181818181                             \n",
      "  minSimilarity:  65.66666666666666\n",
      "Generation  4                                                    \n",
      "  maxSimilarity:  112                                            \n",
      "  minSimilarity:  60.55555555555557\n",
      "Generation  5                                                    \n",
      "  maxSimilarity:  110.81818181818181                             \n",
      "  minSimilarity:  60.55555555555557\n",
      "Generation  6                                                    \n",
      "  maxSimilarity:  110.81818181818181                             \n",
      "  minSimilarity:  60.55555555555557\n",
      "Generation  7                                                    \n",
      "  maxSimilarity:  124.81818181818181                             \n",
      "  minSimilarity:  60.55555555555557\n",
      "Generation  8                                                    \n",
      "  maxSimilarity:  108.81818181818181                             \n",
      "  minSimilarity:  60.55555555555557\n",
      "Generation  9                                                    \n",
      "  maxSimilarity:  107.81818181818181                             \n",
      "  minSimilarity:  60.55555555555557\n",
      "Generation  10                                                   \n",
      "  maxSimilarity:  112.81818181818181                             \n",
      "  minSimilarity:  60.55555555555557\n",
      "Generation  11                                                   \n",
      "  maxSimilarity:  112.81818181818181                             \n",
      "  minSimilarity:  60.55555555555557\n",
      "Generation  12                                                   \n",
      "  maxSimilarity:  111.81818181818181                             \n",
      "  minSimilarity:  60.55555555555557\n",
      "Generation  13                                                   \n",
      "  maxSimilarity:  115.81818181818181                             \n",
      "  minSimilarity:  60.55555555555557\n",
      "Generation  14                                                   \n",
      "  maxSimilarity:  122.54545454545455                             \n",
      "  minSimilarity:  60.55555555555557\n",
      "Generation  15                                                   \n",
      "  maxSimilarity:  107.81818181818181                             \n",
      "  minSimilarity:  60.55555555555557\n",
      "Generation  16                                                   \n",
      "  maxSimilarity:  121                                            \n",
      "  minSimilarity:  60.55555555555557\n",
      "Generation  17                                                   \n",
      "  maxSimilarity:  112.81818181818181                             \n",
      "  minSimilarity:  60.55555555555557\n",
      "Generation  18                                                   \n",
      "  maxSimilarity:  106.81818181818181                             \n",
      "  minSimilarity:  65.66666666666666\n",
      "Generation  19                                                   \n",
      "  maxSimilarity:  105.81818181818181                             \n",
      "  minSimilarity:  65.66666666666666\n",
      "Generation  20                                                   \n",
      "  maxSimilarity:  108.81818181818181                             \n",
      "  minSimilarity:  62.90909090909091\n",
      "Generation  21                                                   \n",
      "  maxSimilarity:  112.81818181818181                             \n",
      "  minSimilarity:  62.90909090909091\n",
      "Generation  22                                                   \n",
      "  maxSimilarity:  111.81818181818181                             \n",
      "  minSimilarity:  65.66666666666666\n",
      "Generation  23                                                   \n",
      "  maxSimilarity:  111.81818181818181                             \n",
      "  minSimilarity:  65.66666666666666\n",
      "Generation  24                                                   \n",
      "  maxSimilarity:  111.81818181818181                             \n",
      "  minSimilarity:  66.89999999999999\n",
      "Generation  25                                                   \n",
      "  maxSimilarity:  107.81818181818181                             \n",
      "  minSimilarity:  65.66666666666666\n",
      "Generation  26                                                   \n",
      "  maxSimilarity:  104.81818181818181                             \n",
      "  minSimilarity:  67.66666666666666\n",
      "Generation  27                                                   \n",
      "  maxSimilarity:  106.81818181818181                             \n",
      "  minSimilarity:  67.66666666666666\n",
      "Generation  28                                                   \n",
      "  maxSimilarity:  103.81818181818181                             \n",
      "  minSimilarity:  60.55555555555557\n",
      "Generation  29                                                   \n",
      "  maxSimilarity:  105.81818181818181                             \n",
      "  minSimilarity:  65.66666666666666\n",
      "Generation  30                                                   \n",
      "  maxSimilarity:  105                                            \n",
      "  minSimilarity:  65.66666666666666\n",
      "Generation  31                                                   \n",
      "  maxSimilarity:  113.81818181818181                             \n",
      "  minSimilarity:  60.55555555555557\n",
      "Generation  32                                                   \n",
      "  maxSimilarity:  100.81818181818181                             \n",
      "  minSimilarity:  60.55555555555557\n",
      "Generation  33                                                   \n",
      "  maxSimilarity:  105.63636363636363                             \n",
      "  minSimilarity:  60.55555555555557\n",
      "Generation  34                                                   \n",
      "  maxSimilarity:  100.81818181818181                             \n",
      "  minSimilarity:  65.66666666666666\n",
      "Generation  35                                                   \n",
      "  maxSimilarity:  118.81818181818181                             \n",
      "  minSimilarity:  65.66666666666666\n",
      "Generation  36                                                   \n",
      "  maxSimilarity:  106.81818181818181                             \n",
      "  minSimilarity:  63.66666666666666\n",
      "Generation  37                                                   \n",
      "  maxSimilarity:  103                                            \n",
      "  minSimilarity:  67.66666666666666\n",
      "Generation  38                                                   \n",
      "  maxSimilarity:  99.81818181818181                              \n",
      "  minSimilarity:  67.66666666666666\n",
      "Generation  39                                                   \n",
      "  maxSimilarity:  103.81818181818181                             \n",
      "  minSimilarity:  63.66666666666666\n",
      "Generation  40                                                   \n",
      "  maxSimilarity:  105.81818181818181                             \n",
      "  minSimilarity:  63.66666666666666\n",
      "Generation  41                                                   \n",
      "  maxSimilarity:  105.81818181818181                             \n",
      "  minSimilarity:  65.66666666666666\n",
      "Generation  42                                                   \n",
      "  maxSimilarity:  104                                            \n",
      "  minSimilarity:  65.66666666666666\n",
      "Generation  43                                                   \n",
      "  maxSimilarity:  105.81818181818181                             \n",
      "  minSimilarity:  65.66666666666666\n",
      "Generation  44                                                   \n",
      "  maxSimilarity:  108.81818181818181                             \n",
      "  minSimilarity:  65.66666666666666\n",
      "Generation  45                                                   \n",
      "  maxSimilarity:  102.54545454545455                             \n",
      "  minSimilarity:  65.66666666666666\n",
      "Generation  46                                                   \n",
      "  maxSimilarity:  102.54545454545455                             \n",
      "  minSimilarity:  60.55555555555557\n",
      "Generation  47                                                   \n",
      "  maxSimilarity:  104.63636363636363                             \n",
      "  minSimilarity:  65.66666666666666\n",
      "Generation  48                                                   \n",
      "  maxSimilarity:  105.81818181818181                             \n",
      "  minSimilarity:  65.66666666666666\n",
      "Generation  49                                                   \n",
      "  maxSimilarity:  103.81818181818181                             \n",
      "  minSimilarity:  60.55555555555557\n",
      "Generation  50                                                   \n",
      "  maxSimilarity:  102.81818181818181                             \n",
      "  minSimilarity:  64.89999999999999\n",
      "Generation  51                                                   \n",
      "  maxSimilarity:  102.81818181818181                             \n",
      "  minSimilarity:  65.66666666666666\n",
      "Generation  52                                                   \n",
      "  maxSimilarity:  99.81818181818181                              \n",
      "  minSimilarity:  65.66666666666666\n",
      "Generation  53                                                   \n",
      "  maxSimilarity:  110                                            \n",
      "  minSimilarity:  69.5\n",
      "Generation  54                                                   \n",
      "  maxSimilarity:  104.81818181818181                             \n",
      "  minSimilarity:  65.66666666666666\n",
      "Generation  55                                                   \n",
      "  maxSimilarity:  109                                            \n",
      "  minSimilarity:  65.66666666666666\n",
      "Generation  56                                                   \n",
      "  maxSimilarity:  104.81818181818181                             \n",
      "  minSimilarity:  60.55555555555557\n",
      "Generation  57                                                   \n",
      "  maxSimilarity:  100.81818181818181                             \n",
      "  minSimilarity:  60.55555555555557\n",
      "Generation  58                                                   \n",
      "  maxSimilarity:  99.81818181818181                              \n",
      "  minSimilarity:  60.55555555555557\n",
      "Generation  59                                                   \n",
      "  maxSimilarity:  100.81818181818181                             \n",
      "  minSimilarity:  65.66666666666666\n",
      "Generation  60                                                   \n",
      "  maxSimilarity:  100.81818181818181                             \n",
      "  minSimilarity:  63.66666666666666\n",
      "Generation  61                                                   \n",
      "  maxSimilarity:  101.63636363636363                             \n",
      "  minSimilarity:  60.55555555555557\n",
      "Generation  62                                                   \n",
      "  maxSimilarity:  103.81818181818181                             \n",
      "  minSimilarity:  60.55555555555557\n",
      "Generation  63                                                   \n",
      "  maxSimilarity:  103.81818181818181                             \n",
      "  minSimilarity:  60.55555555555557\n",
      "Generation  64                                                   \n",
      "  maxSimilarity:  104                                            \n",
      "  minSimilarity:  60.55555555555557\n",
      "Generation  65                                                   \n",
      "  maxSimilarity:  104                                            \n",
      "  minSimilarity:  65.66666666666666\n",
      "Generation  66                                                   \n",
      "  maxSimilarity:  101.81818181818181                             \n",
      "  minSimilarity:  65.66666666666666\n",
      "Generation  67                                                   \n",
      "  maxSimilarity:  101.81818181818181                             \n",
      "  minSimilarity:  65.66666666666666\n",
      "Generation  68                                                   \n",
      "  maxSimilarity:  104                                            \n",
      "  minSimilarity:  65.66666666666666\n",
      "Generation  69                                                   \n",
      "  maxSimilarity:  99.81818181818181                              \n",
      "  minSimilarity:  65.66666666666666\n",
      "Generation  70                                                   \n",
      "  maxSimilarity:  104.81818181818181                             \n",
      "  minSimilarity:  67.66666666666666\n",
      "Generation  71                                                   \n",
      "  maxSimilarity:  104.81818181818181                             \n",
      "  minSimilarity:  67.66666666666666\n",
      "Generation  72                                                   \n",
      "  maxSimilarity:  99.81818181818181                              \n",
      "  minSimilarity:  65.66666666666666\n",
      "Generation  73                                                   \n",
      "  maxSimilarity:  103.81818181818181                             \n",
      "  minSimilarity:  60.55555555555557\n",
      "Generation  74                                                   \n",
      "  maxSimilarity:  104.81818181818181                             \n",
      "  minSimilarity:  65.66666666666666\n",
      "Generation  75                                                   \n",
      "  maxSimilarity:  104                                            \n",
      "  minSimilarity:  65.66666666666666\n",
      "Generation  76                                                   \n",
      "  maxSimilarity:  103.81818181818181                             \n",
      "  minSimilarity:  60.55555555555557\n",
      "Generation  77                                                   \n",
      "  maxSimilarity:  101.81818181818181                             \n",
      "  minSimilarity:  60.55555555555557\n",
      "Generation  78                                                   \n",
      "  percentage selection calculate Similarity: 42.20   \r"
     ]
    },
    {
     "ename": "KeyboardInterrupt",
     "evalue": "",
     "output_type": "error",
     "traceback": [
      "\u001b[0;31m---------------------------------------------------------------------------\u001b[0m",
      "\u001b[0;31mKeyboardInterrupt\u001b[0m                         Traceback (most recent call last)",
      "\u001b[1;32m/Users/jeronimocabezueloruiz/MEGA/UNIR/TRABAJOFINMASTER/2022/KnotIA/Notebook.ipynb Cell 4'\u001b[0m in \u001b[0;36m<cell line: 7>\u001b[0;34m()\u001b[0m\n\u001b[1;32m      <a href='vscode-notebook-cell:/Users/jeronimocabezueloruiz/MEGA/UNIR/TRABAJOFINMASTER/2022/KnotIA/Notebook.ipynb#ch0000004?line=2'>3</a>\u001b[0m k2 \u001b[39m=\u001b[39m CustomKnot([X(\u001b[39m1\u001b[39m,\u001b[39m10\u001b[39m,\u001b[39m2\u001b[39m,\u001b[39m11\u001b[39m), X(\u001b[39m1\u001b[39m,\u001b[39m19\u001b[39m,\u001b[39m22\u001b[39m,\u001b[39m20\u001b[39m), X(\u001b[39m4\u001b[39m,\u001b[39m15\u001b[39m,\u001b[39m5\u001b[39m,\u001b[39m16\u001b[39m), X(\u001b[39m6\u001b[39m,\u001b[39m14\u001b[39m,\u001b[39m7\u001b[39m,\u001b[39m13\u001b[39m), X(\u001b[39m7\u001b[39m,\u001b[39m2\u001b[39m,\u001b[39m8\u001b[39m,\u001b[39m3\u001b[39m), X(\u001b[39m8\u001b[39m,\u001b[39m21\u001b[39m,\u001b[39m9\u001b[39m,\u001b[39m22\u001b[39m), X(\u001b[39m12\u001b[39m,\u001b[39m4\u001b[39m,\u001b[39m13\u001b[39m,\u001b[39m3\u001b[39m), X(\u001b[39m14\u001b[39m,\u001b[39m17\u001b[39m,\u001b[39m15\u001b[39m,\u001b[39m18\u001b[39m), X(\u001b[39m16\u001b[39m,\u001b[39m5\u001b[39m,\u001b[39m17\u001b[39m,\u001b[39m6\u001b[39m), X(\u001b[39m18\u001b[39m,\u001b[39m12\u001b[39m,\u001b[39m19\u001b[39m,\u001b[39m11\u001b[39m), X(\u001b[39m20\u001b[39m,\u001b[39m9\u001b[39m,\u001b[39m21\u001b[39m,\u001b[39m10\u001b[39m)]) \u001b[39m# 7_6 newRandom 10000 simplificado\u001b[39;00m\n\u001b[1;32m      <a href='vscode-notebook-cell:/Users/jeronimocabezueloruiz/MEGA/UNIR/TRABAJOFINMASTER/2022/KnotIA/Notebook.ipynb#ch0000004?line=4'>5</a>\u001b[0m \u001b[39m#print(similarity(k1,k2))\u001b[39;00m\n\u001b[1;32m      <a href='vscode-notebook-cell:/Users/jeronimocabezueloruiz/MEGA/UNIR/TRABAJOFINMASTER/2022/KnotIA/Notebook.ipynb#ch0000004?line=5'>6</a>\u001b[0m \u001b[39m#areSameKnots(k1,k2,100,debug=1)\u001b[39;00m\n\u001b[0;32m----> <a href='vscode-notebook-cell:/Users/jeronimocabezueloruiz/MEGA/UNIR/TRABAJOFINMASTER/2022/KnotIA/Notebook.ipynb#ch0000004?line=6'>7</a>\u001b[0m areSameKnotGA(k1,k2,numberOfIndividuals\u001b[39m=\u001b[39;49m\u001b[39m1000\u001b[39;49m,numberOfGenerations\u001b[39m=\u001b[39;49m\u001b[39m300\u001b[39;49m)\n",
      "File \u001b[0;32m~/MEGA/UNIR/TRABAJOFINMASTER/2022/KnotIA/KnotGA.py:244\u001b[0m, in \u001b[0;36mareSameKnotGA\u001b[0;34m(knot1, knot2, numberOfIndividuals, numberOfGenerations)\u001b[0m\n\u001b[1;32m    <a href='file:///Users/jeronimocabezueloruiz/MEGA/UNIR/TRABAJOFINMASTER/2022/KnotIA/KnotGA.py?line=241'>242</a>\u001b[0m c\u001b[39m+\u001b[39m\u001b[39m=\u001b[39m\u001b[39m1\u001b[39m\n\u001b[1;32m    <a href='file:///Users/jeronimocabezueloruiz/MEGA/UNIR/TRABAJOFINMASTER/2022/KnotIA/KnotGA.py?line=242'>243</a>\u001b[0m \u001b[39mprint\u001b[39m(\u001b[39m\"\u001b[39m\u001b[39mGeneration \u001b[39m\u001b[39m\"\u001b[39m, c)\n\u001b[0;32m--> <a href='file:///Users/jeronimocabezueloruiz/MEGA/UNIR/TRABAJOFINMASTER/2022/KnotIA/KnotGA.py?line=243'>244</a>\u001b[0m a \u001b[39m=\u001b[39m population\u001b[39m.\u001b[39;49mnewGeneration()\n\u001b[1;32m    <a href='file:///Users/jeronimocabezueloruiz/MEGA/UNIR/TRABAJOFINMASTER/2022/KnotIA/KnotGA.py?line=244'>245</a>\u001b[0m \u001b[39mif\u001b[39;00m a \u001b[39m!=\u001b[39m \u001b[39mNone\u001b[39;00m:\n\u001b[1;32m    <a href='file:///Users/jeronimocabezueloruiz/MEGA/UNIR/TRABAJOFINMASTER/2022/KnotIA/KnotGA.py?line=245'>246</a>\u001b[0m     \u001b[39mreturn\u001b[39;00m \u001b[39mTrue\u001b[39;00m, a\n",
      "File \u001b[0;32m~/MEGA/UNIR/TRABAJOFINMASTER/2022/KnotIA/KnotGA.py:231\u001b[0m, in \u001b[0;36mPopulationKnot.newGeneration\u001b[0;34m(self, percentage)\u001b[0m\n\u001b[1;32m    <a href='file:///Users/jeronimocabezueloruiz/MEGA/UNIR/TRABAJOFINMASTER/2022/KnotIA/KnotGA.py?line=229'>230</a>\u001b[0m \u001b[39mdef\u001b[39;00m \u001b[39mnewGeneration\u001b[39m(\u001b[39mself\u001b[39m, percentage: \u001b[39mint\u001b[39m \u001b[39m=\u001b[39m \u001b[39m50\u001b[39m):\n\u001b[0;32m--> <a href='file:///Users/jeronimocabezueloruiz/MEGA/UNIR/TRABAJOFINMASTER/2022/KnotIA/KnotGA.py?line=230'>231</a>\u001b[0m     a \u001b[39m=\u001b[39m \u001b[39mself\u001b[39;49m\u001b[39m.\u001b[39;49mselection(percentage\u001b[39m=\u001b[39;49mpercentage)\n\u001b[1;32m    <a href='file:///Users/jeronimocabezueloruiz/MEGA/UNIR/TRABAJOFINMASTER/2022/KnotIA/KnotGA.py?line=231'>232</a>\u001b[0m     \u001b[39mif\u001b[39;00m a \u001b[39m!=\u001b[39m \u001b[39mNone\u001b[39;00m:\n\u001b[1;32m    <a href='file:///Users/jeronimocabezueloruiz/MEGA/UNIR/TRABAJOFINMASTER/2022/KnotIA/KnotGA.py?line=232'>233</a>\u001b[0m         \u001b[39mreturn\u001b[39;00m a\n",
      "File \u001b[0;32m~/MEGA/UNIR/TRABAJOFINMASTER/2022/KnotIA/KnotGA.py:181\u001b[0m, in \u001b[0;36mPopulationKnot.selection\u001b[0;34m(self, percentage)\u001b[0m\n\u001b[1;32m    <a href='file:///Users/jeronimocabezueloruiz/MEGA/UNIR/TRABAJOFINMASTER/2022/KnotIA/KnotGA.py?line=177'>178</a>\u001b[0m computedKnot, moves \u001b[39m=\u001b[39m individual\u001b[39m.\u001b[39mcomputedKnot\n\u001b[1;32m    <a href='file:///Users/jeronimocabezueloruiz/MEGA/UNIR/TRABAJOFINMASTER/2022/KnotIA/KnotGA.py?line=178'>179</a>\u001b[0m \u001b[39m#end = time()\u001b[39;00m\n\u001b[1;32m    <a href='file:///Users/jeronimocabezueloruiz/MEGA/UNIR/TRABAJOFINMASTER/2022/KnotIA/KnotGA.py?line=179'>180</a>\u001b[0m \u001b[39m#print(\"time individual computedKnot\", end-start)\u001b[39;00m\n\u001b[0;32m--> <a href='file:///Users/jeronimocabezueloruiz/MEGA/UNIR/TRABAJOFINMASTER/2022/KnotIA/KnotGA.py?line=180'>181</a>\u001b[0m similar \u001b[39m=\u001b[39m \u001b[39mself\u001b[39;49m\u001b[39m.\u001b[39;49msimilarities[computedKnot]\n\u001b[1;32m    <a href='file:///Users/jeronimocabezueloruiz/MEGA/UNIR/TRABAJOFINMASTER/2022/KnotIA/KnotGA.py?line=181'>182</a>\u001b[0m \u001b[39m#end = time()\u001b[39;00m\n\u001b[1;32m    <a href='file:///Users/jeronimocabezueloruiz/MEGA/UNIR/TRABAJOFINMASTER/2022/KnotIA/KnotGA.py?line=182'>183</a>\u001b[0m \u001b[39m#print(\"time individual similarities\", end-start)\u001b[39;00m\n\u001b[1;32m    <a href='file:///Users/jeronimocabezueloruiz/MEGA/UNIR/TRABAJOFINMASTER/2022/KnotIA/KnotGA.py?line=183'>184</a>\u001b[0m \u001b[39m#print(similar,moves)\u001b[39;00m\n\u001b[1;32m    <a href='file:///Users/jeronimocabezueloruiz/MEGA/UNIR/TRABAJOFINMASTER/2022/KnotIA/KnotGA.py?line=184'>185</a>\u001b[0m \u001b[39mif\u001b[39;00m similar \u001b[39m==\u001b[39m \u001b[39m0\u001b[39m \u001b[39mor\u001b[39;00m computedKnot \u001b[39m==\u001b[39m \u001b[39mself\u001b[39m\u001b[39m.\u001b[39mobjetiveKnot:\n\u001b[1;32m    <a href='file:///Users/jeronimocabezueloruiz/MEGA/UNIR/TRABAJOFINMASTER/2022/KnotIA/KnotGA.py?line=185'>186</a>\u001b[0m     \u001b[39m#print()\u001b[39;00m\n",
      "File \u001b[0;32m~/MEGA/UNIR/TRABAJOFINMASTER/2022/KnotIA/KnotStar.py:261\u001b[0m, in \u001b[0;36mSimilarity.__getitem__\u001b[0;34m(self, knot)\u001b[0m\n\u001b[1;32m    <a href='file:///Users/jeronimocabezueloruiz/MEGA/UNIR/TRABAJOFINMASTER/2022/KnotIA/KnotStar.py?line=258'>259</a>\u001b[0m tuples \u001b[39m=\u001b[39m \u001b[39mself\u001b[39m\u001b[39m.\u001b[39msimilarities[h]\n\u001b[1;32m    <a href='file:///Users/jeronimocabezueloruiz/MEGA/UNIR/TRABAJOFINMASTER/2022/KnotIA/KnotStar.py?line=259'>260</a>\u001b[0m \u001b[39mfor\u001b[39;00m tupleKnot, tupleSimilarity \u001b[39min\u001b[39;00m tuples:\n\u001b[0;32m--> <a href='file:///Users/jeronimocabezueloruiz/MEGA/UNIR/TRABAJOFINMASTER/2022/KnotIA/KnotStar.py?line=260'>261</a>\u001b[0m     \u001b[39mif\u001b[39;00m tupleKnot \u001b[39m==\u001b[39;49m knot:\n\u001b[1;32m    <a href='file:///Users/jeronimocabezueloruiz/MEGA/UNIR/TRABAJOFINMASTER/2022/KnotIA/KnotStar.py?line=261'>262</a>\u001b[0m         \u001b[39m#end = time()\u001b[39;00m\n\u001b[1;32m    <a href='file:///Users/jeronimocabezueloruiz/MEGA/UNIR/TRABAJOFINMASTER/2022/KnotIA/KnotStar.py?line=262'>263</a>\u001b[0m         \u001b[39m#print(\"Time Similarity sin calculo\",end - start)  \u001b[39;00m\n\u001b[1;32m    <a href='file:///Users/jeronimocabezueloruiz/MEGA/UNIR/TRABAJOFINMASTER/2022/KnotIA/KnotStar.py?line=263'>264</a>\u001b[0m         \u001b[39mreturn\u001b[39;00m tupleSimilarity\n\u001b[1;32m    <a href='file:///Users/jeronimocabezueloruiz/MEGA/UNIR/TRABAJOFINMASTER/2022/KnotIA/KnotStar.py?line=264'>265</a>\u001b[0m tupleSimilarity \u001b[39m=\u001b[39m similarityKnot(knot,\u001b[39mself\u001b[39m\u001b[39m.\u001b[39mobjetiveKnot)\n",
      "File \u001b[0;32m~/MEGA/UNIR/TRABAJOFINMASTER/2022/KnotIA/CustomKnot.py:47\u001b[0m, in \u001b[0;36mCustomKnot.__eq__\u001b[0;34m(self, obj)\u001b[0m\n\u001b[1;32m     <a href='file:///Users/jeronimocabezueloruiz/MEGA/UNIR/TRABAJOFINMASTER/2022/KnotIA/CustomKnot.py?line=44'>45</a>\u001b[0m     \u001b[39mreturn\u001b[39;00m \u001b[39mFalse\u001b[39;00m\n\u001b[1;32m     <a href='file:///Users/jeronimocabezueloruiz/MEGA/UNIR/TRABAJOFINMASTER/2022/KnotIA/CustomKnot.py?line=45'>46</a>\u001b[0m n \u001b[39m=\u001b[39m \u001b[39mself\u001b[39m\u001b[39m.\u001b[39mnumberOfStrands\n\u001b[0;32m---> <a href='file:///Users/jeronimocabezueloruiz/MEGA/UNIR/TRABAJOFINMASTER/2022/KnotIA/CustomKnot.py?line=46'>47</a>\u001b[0m uno \u001b[39m=\u001b[39m deepcopy(\u001b[39mself\u001b[39;49m)\n\u001b[1;32m     <a href='file:///Users/jeronimocabezueloruiz/MEGA/UNIR/TRABAJOFINMASTER/2022/KnotIA/CustomKnot.py?line=47'>48</a>\u001b[0m \u001b[39mfor\u001b[39;00m _ \u001b[39min\u001b[39;00m \u001b[39mrange\u001b[39m(\u001b[39m2\u001b[39m):\n\u001b[1;32m     <a href='file:///Users/jeronimocabezueloruiz/MEGA/UNIR/TRABAJOFINMASTER/2022/KnotIA/CustomKnot.py?line=48'>49</a>\u001b[0m     \u001b[39mfor\u001b[39;00m _ \u001b[39min\u001b[39;00m \u001b[39mrange\u001b[39m(n):\n",
      "File \u001b[0;32m/Library/Frameworks/Python.framework/Versions/3.10/lib/python3.10/copy.py:172\u001b[0m, in \u001b[0;36mdeepcopy\u001b[0;34m(x, memo, _nil)\u001b[0m\n\u001b[1;32m    <a href='file:///Library/Frameworks/Python.framework/Versions/3.10/lib/python3.10/copy.py?line=169'>170</a>\u001b[0m                 y \u001b[39m=\u001b[39m x\n\u001b[1;32m    <a href='file:///Library/Frameworks/Python.framework/Versions/3.10/lib/python3.10/copy.py?line=170'>171</a>\u001b[0m             \u001b[39melse\u001b[39;00m:\n\u001b[0;32m--> <a href='file:///Library/Frameworks/Python.framework/Versions/3.10/lib/python3.10/copy.py?line=171'>172</a>\u001b[0m                 y \u001b[39m=\u001b[39m _reconstruct(x, memo, \u001b[39m*\u001b[39;49mrv)\n\u001b[1;32m    <a href='file:///Library/Frameworks/Python.framework/Versions/3.10/lib/python3.10/copy.py?line=173'>174</a>\u001b[0m \u001b[39m# If is its own copy, don't memoize.\u001b[39;00m\n\u001b[1;32m    <a href='file:///Library/Frameworks/Python.framework/Versions/3.10/lib/python3.10/copy.py?line=174'>175</a>\u001b[0m \u001b[39mif\u001b[39;00m y \u001b[39mis\u001b[39;00m \u001b[39mnot\u001b[39;00m x:\n",
      "File \u001b[0;32m/Library/Frameworks/Python.framework/Versions/3.10/lib/python3.10/copy.py:271\u001b[0m, in \u001b[0;36m_reconstruct\u001b[0;34m(x, memo, func, args, state, listiter, dictiter, deepcopy)\u001b[0m\n\u001b[1;32m    <a href='file:///Library/Frameworks/Python.framework/Versions/3.10/lib/python3.10/copy.py?line=268'>269</a>\u001b[0m \u001b[39mif\u001b[39;00m state \u001b[39mis\u001b[39;00m \u001b[39mnot\u001b[39;00m \u001b[39mNone\u001b[39;00m:\n\u001b[1;32m    <a href='file:///Library/Frameworks/Python.framework/Versions/3.10/lib/python3.10/copy.py?line=269'>270</a>\u001b[0m     \u001b[39mif\u001b[39;00m deep:\n\u001b[0;32m--> <a href='file:///Library/Frameworks/Python.framework/Versions/3.10/lib/python3.10/copy.py?line=270'>271</a>\u001b[0m         state \u001b[39m=\u001b[39m deepcopy(state, memo)\n\u001b[1;32m    <a href='file:///Library/Frameworks/Python.framework/Versions/3.10/lib/python3.10/copy.py?line=271'>272</a>\u001b[0m     \u001b[39mif\u001b[39;00m \u001b[39mhasattr\u001b[39m(y, \u001b[39m'\u001b[39m\u001b[39m__setstate__\u001b[39m\u001b[39m'\u001b[39m):\n\u001b[1;32m    <a href='file:///Library/Frameworks/Python.framework/Versions/3.10/lib/python3.10/copy.py?line=272'>273</a>\u001b[0m         y\u001b[39m.\u001b[39m__setstate__(state)\n",
      "File \u001b[0;32m/Library/Frameworks/Python.framework/Versions/3.10/lib/python3.10/copy.py:146\u001b[0m, in \u001b[0;36mdeepcopy\u001b[0;34m(x, memo, _nil)\u001b[0m\n\u001b[1;32m    <a href='file:///Library/Frameworks/Python.framework/Versions/3.10/lib/python3.10/copy.py?line=143'>144</a>\u001b[0m copier \u001b[39m=\u001b[39m _deepcopy_dispatch\u001b[39m.\u001b[39mget(\u001b[39mcls\u001b[39m)\n\u001b[1;32m    <a href='file:///Library/Frameworks/Python.framework/Versions/3.10/lib/python3.10/copy.py?line=144'>145</a>\u001b[0m \u001b[39mif\u001b[39;00m copier \u001b[39mis\u001b[39;00m \u001b[39mnot\u001b[39;00m \u001b[39mNone\u001b[39;00m:\n\u001b[0;32m--> <a href='file:///Library/Frameworks/Python.framework/Versions/3.10/lib/python3.10/copy.py?line=145'>146</a>\u001b[0m     y \u001b[39m=\u001b[39m copier(x, memo)\n\u001b[1;32m    <a href='file:///Library/Frameworks/Python.framework/Versions/3.10/lib/python3.10/copy.py?line=146'>147</a>\u001b[0m \u001b[39melse\u001b[39;00m:\n\u001b[1;32m    <a href='file:///Library/Frameworks/Python.framework/Versions/3.10/lib/python3.10/copy.py?line=147'>148</a>\u001b[0m     \u001b[39mif\u001b[39;00m \u001b[39missubclass\u001b[39m(\u001b[39mcls\u001b[39m, \u001b[39mtype\u001b[39m):\n",
      "File \u001b[0;32m/Library/Frameworks/Python.framework/Versions/3.10/lib/python3.10/copy.py:231\u001b[0m, in \u001b[0;36m_deepcopy_dict\u001b[0;34m(x, memo, deepcopy)\u001b[0m\n\u001b[1;32m    <a href='file:///Library/Frameworks/Python.framework/Versions/3.10/lib/python3.10/copy.py?line=228'>229</a>\u001b[0m memo[\u001b[39mid\u001b[39m(x)] \u001b[39m=\u001b[39m y\n\u001b[1;32m    <a href='file:///Library/Frameworks/Python.framework/Versions/3.10/lib/python3.10/copy.py?line=229'>230</a>\u001b[0m \u001b[39mfor\u001b[39;00m key, value \u001b[39min\u001b[39;00m x\u001b[39m.\u001b[39mitems():\n\u001b[0;32m--> <a href='file:///Library/Frameworks/Python.framework/Versions/3.10/lib/python3.10/copy.py?line=230'>231</a>\u001b[0m     y[deepcopy(key, memo)] \u001b[39m=\u001b[39m deepcopy(value, memo)\n\u001b[1;32m    <a href='file:///Library/Frameworks/Python.framework/Versions/3.10/lib/python3.10/copy.py?line=231'>232</a>\u001b[0m \u001b[39mreturn\u001b[39;00m y\n",
      "File \u001b[0;32m/Library/Frameworks/Python.framework/Versions/3.10/lib/python3.10/copy.py:146\u001b[0m, in \u001b[0;36mdeepcopy\u001b[0;34m(x, memo, _nil)\u001b[0m\n\u001b[1;32m    <a href='file:///Library/Frameworks/Python.framework/Versions/3.10/lib/python3.10/copy.py?line=143'>144</a>\u001b[0m copier \u001b[39m=\u001b[39m _deepcopy_dispatch\u001b[39m.\u001b[39mget(\u001b[39mcls\u001b[39m)\n\u001b[1;32m    <a href='file:///Library/Frameworks/Python.framework/Versions/3.10/lib/python3.10/copy.py?line=144'>145</a>\u001b[0m \u001b[39mif\u001b[39;00m copier \u001b[39mis\u001b[39;00m \u001b[39mnot\u001b[39;00m \u001b[39mNone\u001b[39;00m:\n\u001b[0;32m--> <a href='file:///Library/Frameworks/Python.framework/Versions/3.10/lib/python3.10/copy.py?line=145'>146</a>\u001b[0m     y \u001b[39m=\u001b[39m copier(x, memo)\n\u001b[1;32m    <a href='file:///Library/Frameworks/Python.framework/Versions/3.10/lib/python3.10/copy.py?line=146'>147</a>\u001b[0m \u001b[39melse\u001b[39;00m:\n\u001b[1;32m    <a href='file:///Library/Frameworks/Python.framework/Versions/3.10/lib/python3.10/copy.py?line=147'>148</a>\u001b[0m     \u001b[39mif\u001b[39;00m \u001b[39missubclass\u001b[39m(\u001b[39mcls\u001b[39m, \u001b[39mtype\u001b[39m):\n",
      "File \u001b[0;32m/Library/Frameworks/Python.framework/Versions/3.10/lib/python3.10/copy.py:206\u001b[0m, in \u001b[0;36m_deepcopy_list\u001b[0;34m(x, memo, deepcopy)\u001b[0m\n\u001b[1;32m    <a href='file:///Library/Frameworks/Python.framework/Versions/3.10/lib/python3.10/copy.py?line=203'>204</a>\u001b[0m append \u001b[39m=\u001b[39m y\u001b[39m.\u001b[39mappend\n\u001b[1;32m    <a href='file:///Library/Frameworks/Python.framework/Versions/3.10/lib/python3.10/copy.py?line=204'>205</a>\u001b[0m \u001b[39mfor\u001b[39;00m a \u001b[39min\u001b[39;00m x:\n\u001b[0;32m--> <a href='file:///Library/Frameworks/Python.framework/Versions/3.10/lib/python3.10/copy.py?line=205'>206</a>\u001b[0m     append(deepcopy(a, memo))\n\u001b[1;32m    <a href='file:///Library/Frameworks/Python.framework/Versions/3.10/lib/python3.10/copy.py?line=206'>207</a>\u001b[0m \u001b[39mreturn\u001b[39;00m y\n",
      "File \u001b[0;32m/Library/Frameworks/Python.framework/Versions/3.10/lib/python3.10/copy.py:172\u001b[0m, in \u001b[0;36mdeepcopy\u001b[0;34m(x, memo, _nil)\u001b[0m\n\u001b[1;32m    <a href='file:///Library/Frameworks/Python.framework/Versions/3.10/lib/python3.10/copy.py?line=169'>170</a>\u001b[0m                 y \u001b[39m=\u001b[39m x\n\u001b[1;32m    <a href='file:///Library/Frameworks/Python.framework/Versions/3.10/lib/python3.10/copy.py?line=170'>171</a>\u001b[0m             \u001b[39melse\u001b[39;00m:\n\u001b[0;32m--> <a href='file:///Library/Frameworks/Python.framework/Versions/3.10/lib/python3.10/copy.py?line=171'>172</a>\u001b[0m                 y \u001b[39m=\u001b[39m _reconstruct(x, memo, \u001b[39m*\u001b[39;49mrv)\n\u001b[1;32m    <a href='file:///Library/Frameworks/Python.framework/Versions/3.10/lib/python3.10/copy.py?line=173'>174</a>\u001b[0m \u001b[39m# If is its own copy, don't memoize.\u001b[39;00m\n\u001b[1;32m    <a href='file:///Library/Frameworks/Python.framework/Versions/3.10/lib/python3.10/copy.py?line=174'>175</a>\u001b[0m \u001b[39mif\u001b[39;00m y \u001b[39mis\u001b[39;00m \u001b[39mnot\u001b[39;00m x:\n",
      "File \u001b[0;32m/Library/Frameworks/Python.framework/Versions/3.10/lib/python3.10/copy.py:271\u001b[0m, in \u001b[0;36m_reconstruct\u001b[0;34m(x, memo, func, args, state, listiter, dictiter, deepcopy)\u001b[0m\n\u001b[1;32m    <a href='file:///Library/Frameworks/Python.framework/Versions/3.10/lib/python3.10/copy.py?line=268'>269</a>\u001b[0m \u001b[39mif\u001b[39;00m state \u001b[39mis\u001b[39;00m \u001b[39mnot\u001b[39;00m \u001b[39mNone\u001b[39;00m:\n\u001b[1;32m    <a href='file:///Library/Frameworks/Python.framework/Versions/3.10/lib/python3.10/copy.py?line=269'>270</a>\u001b[0m     \u001b[39mif\u001b[39;00m deep:\n\u001b[0;32m--> <a href='file:///Library/Frameworks/Python.framework/Versions/3.10/lib/python3.10/copy.py?line=270'>271</a>\u001b[0m         state \u001b[39m=\u001b[39m deepcopy(state, memo)\n\u001b[1;32m    <a href='file:///Library/Frameworks/Python.framework/Versions/3.10/lib/python3.10/copy.py?line=271'>272</a>\u001b[0m     \u001b[39mif\u001b[39;00m \u001b[39mhasattr\u001b[39m(y, \u001b[39m'\u001b[39m\u001b[39m__setstate__\u001b[39m\u001b[39m'\u001b[39m):\n\u001b[1;32m    <a href='file:///Library/Frameworks/Python.framework/Versions/3.10/lib/python3.10/copy.py?line=272'>273</a>\u001b[0m         y\u001b[39m.\u001b[39m__setstate__(state)\n",
      "\u001b[0;31mKeyboardInterrupt\u001b[0m: "
     ]
    }
   ],
   "source": [
    "# Este tarda mucho:\n",
    "k1 = CustomKnot([X(1,4,2,5), X(3,8,4,9), X(5,12,6,13), X(7,2,8,3), X(9,1,10,14), X(11,6,12,7), X(13,11,14,10)]) # 7_6\n",
    "k2 = CustomKnot([X(1,10,2,11), X(1,19,22,20), X(4,15,5,16), X(6,14,7,13), X(7,2,8,3), X(8,21,9,22), X(12,4,13,3), X(14,17,15,18), X(16,5,17,6), X(18,12,19,11), X(20,9,21,10)]) # 7_6 newRandom 10000 simplificado\n",
    "\n",
    "#print(similarity(k1,k2))\n",
    "#areSameKnots(k1,k2,100,debug=1)\n",
    "areSameKnotGA(k1,k2,numberOfIndividuals=1000,numberOfGenerations=300)"
   ]
  },
  {
   "cell_type": "code",
   "execution_count": 1,
   "metadata": {},
   "outputs": [
    {
     "ename": "NameError",
     "evalue": "name 'knotFromPyknotid' is not defined",
     "output_type": "error",
     "traceback": [
      "\u001b[0;31m---------------------------------------------------------------------------\u001b[0m",
      "\u001b[0;31mNameError\u001b[0m                                 Traceback (most recent call last)",
      "\u001b[1;32m/Users/jeronimocabezueloruiz/MEGA/UNIR/TRABAJOFINMASTER/2022/KnotIA/Notebook.ipynb Cell 3'\u001b[0m in \u001b[0;36m<cell line: 1>\u001b[0;34m()\u001b[0m\n\u001b[0;32m----> <a href='vscode-notebook-cell:/Users/jeronimocabezueloruiz/MEGA/UNIR/TRABAJOFINMASTER/2022/KnotIA/Notebook.ipynb#ch0000013?line=0'>1</a>\u001b[0m k1 \u001b[39m=\u001b[39m knotFromPyknotid(\u001b[39m\"\u001b[39m\u001b[39m7_6\u001b[39m\u001b[39m\"\u001b[39m)\n\u001b[1;32m      <a href='vscode-notebook-cell:/Users/jeronimocabezueloruiz/MEGA/UNIR/TRABAJOFINMASTER/2022/KnotIA/Notebook.ipynb#ch0000013?line=3'>4</a>\u001b[0m k2 \u001b[39m=\u001b[39m randomMovN(k1,\u001b[39m10000\u001b[39m,\u001b[39m20\u001b[39m,percentage\u001b[39m=\u001b[39m\u001b[39mTrue\u001b[39;00m)\n\u001b[1;32m      <a href='vscode-notebook-cell:/Users/jeronimocabezueloruiz/MEGA/UNIR/TRABAJOFINMASTER/2022/KnotIA/Notebook.ipynb#ch0000013?line=4'>5</a>\u001b[0m \u001b[39mprint\u001b[39m(k2\u001b[39m.\u001b[39mcrosses)\n",
      "\u001b[0;31mNameError\u001b[0m: name 'knotFromPyknotid' is not defined"
     ]
    }
   ],
   "source": [
    "k1 = knotFromPyknotid(\"7_6\")\n",
    "\n",
    "\n",
    "k2 = randomMovN(k1,10000,20,percentage=True)\n",
    "print(k2.crosses)\n",
    "k2.reduceUnnecessaryMov()\n",
    "\n",
    "print(k1.crosses)\n",
    "print(k2.crosses)\n",
    "\n"
   ]
  },
  {
   "cell_type": "code",
   "execution_count": 6,
   "metadata": {},
   "outputs": [],
   "source": [
    "k1 = knotFromPyknotid(\"7_1\")\n"
   ]
  },
  {
   "cell_type": "code",
   "execution_count": 11,
   "metadata": {},
   "outputs": [
    {
     "data": {
      "text/plain": [
       "False"
      ]
     },
     "execution_count": 11,
     "metadata": {},
     "output_type": "execute_result"
    }
   ],
   "source": [
    "k1.reidemeisterIII(1,2,3,check=False)"
   ]
  },
  {
   "cell_type": "code",
   "execution_count": 5,
   "metadata": {},
   "outputs": [
    {
     "name": "stdout",
     "output_type": "stream",
     "text": [
      "1 8\n",
      "2 7\n",
      "3 6\n",
      "4 5\n",
      "5 4\n",
      "6 3\n",
      "7 2\n",
      "8 1\n",
      "11 18\n",
      "12 17\n",
      "13 16\n",
      "14 15\n",
      "15 14\n",
      "16 13\n",
      "17 12\n",
      "18 11\n"
     ]
    }
   ],
   "source": [
    "for i in range(1,9): \n",
    "    print(i,9-i)\n",
    "for i in range(11,19): \n",
    "    print(i,29-i)"
   ]
  },
  {
   "cell_type": "code",
   "execution_count": 10,
   "metadata": {},
   "outputs": [
    {
     "name": "stdout",
     "output_type": "stream",
     "text": [
      "[X(1,4,2,5), X(3,6,4,1), X(5,2,6,3)]remaining: <1s                                 \n",
      "[X(2,13,3,14), X(7,20,8,1), X(11,7,12,6), X(12,5,13,6), X(14,3,15,4), X(15,5,16,4), X(16,1,17,2), X(17,10,18,11), X(18,10,19,9), X(19,8,20,9)]\n",
      "[X(2,5,3,6), X(3,8,4,1), X(6,1,7,2), X(7,4,8,5)]\n",
      "False\n"
     ]
    }
   ],
   "source": [
    "k1  = knotFromPyknotid(\"3_1\")\n",
    "k2 = deepcopy(k1)\n",
    "k2.randomMovN(10000,20,percentage=True)\n",
    "\n",
    "#k1 = CustomKnot([X(1,6,2,7), X(3,8,4,9), X(5,10,6,1), X(7,2,8,3), X(9,4,10,5)]) #5_1\n",
    "#k2 = CustomKnot([X(1,8,18,7), X(2,2,3,1), X(3,14,4,15), X(5,10,6,11), X(8,15,9,16), X(9,4,10,5), X(12,12,13,11), X(13,6,14,7), X(17,16,18,17)])#5_1_random\n",
    "\n",
    "#k1 = CustomKnot([X(1,4,2,5), X(3,6,4,1), X(5,2,6,3)]) #3_1\n",
    "#k2 = CustomKnot([X(1,4,20,3), X(2,5,3,6), X(4,1,5,2), X(6,19,7,20), X(8,15,9,16), X(9,19,10,18), X(11,10,12,11), X(12,7,13,8), X(13,14,14,15), X(16,18,17,17)])\n",
    "\n",
    "#k1 = CustomKnot([X(1,4,2,5), X(3,9,4,8), X(5,12,6,1), X(7,10,8,11), X(9,3,10,2), X(11,6,12,7)]) #6_1\n",
    "#k2 = CustomKnot([X(1,4,18,3), X(1,9,2,8), X(4,17,5,18), X(7,12,8,13), X(9,3,10,2), X(10,5,11,6), X(11,15,12,14), X(13,6,14,7), X(16,15,17,16)])\n",
    "# \n",
    "#6_1random\n",
    "\n",
    "#k1 = CustomKnot([X(1,4,2,5), X(3,9,4,8), X(5,12,6,1), X(7,10,8,11), X(9,3,10,2), X(11,6,12,7)])#6_1\n",
    "#k2 = CustomKnot([X(1,14,22,13), X(2,11,3,12), X(3,19,4,18), X(4,17,5,18), X(6,16,7,15), X(7,9,8,8), X(10,10,11,9), X(12,1,13,2), X(14,21,15,22), X(16,20,17,19), X(20,6,21,5)]) #6_1 random 5000\n",
    "\n",
    "\n",
    "#k1 = CustomKnot([X(1,4,2,5), X(3,9,4,8), X(5,12,6,1), X(7,10,8,11), X(9,3,10,2), X(11,6,12,7)])  #6_1\n",
    "#[X(1,6,18,5), X(3,11,4,10), X(6,17,7,18), X(7,12,8,13), X(8,9,9,10), X(11,3,12,2), X(14,13,15,14), X(15,4,16,5), X(16,2,17,1)] #6_1 random 100000\n",
    "#k2 = CustomKnot([X(1,6,14,5), X(3,9,4,8), X(6,13,7,14), X(7,10,8,11), X(9,3,10,2), X(11,4,12,5), X(12,2,13,1)]) #6_1 random 100000 simplificado\n",
    "\n",
    "\n",
    "#k1 = CustomKnot([X(1,4,2,5), X(3,9,4,8), X(5,12,6,1), X(7,10,8,11), X(9,3,10,2), X(11,6,12,7)]) #6_1\n",
    "#[X(1,7,18,8), X(1,12,2,13), X(4,9,5,10), X(8,18,9,17), X(10,3,11,4), X(13,6,14,7), X(14,6,15,5), X(15,2,16,3), X(16,12,17,11)] #6_1  random 1000000\n",
    "#k2 = CustomKnot([X(1,5,14,6), X(1,10,2,11), X(4,7,5,8), X(6,14,7,13), X(8,3,9,4), X(11,2,12,3), X(12,10,13,9)]) #6_1  random 1000000 simplificado\n",
    "\n",
    "#k1 = CustomKnot([X(1,8,2,9), X(3,10,4,11), X(5,12,6,13), X(7,14,8,1), X(9,2,10,3), X(11,4,12,5), X(13,6,14,7)]) #7_1\n",
    "#[X(1,12,2,13), X(3,18,4,19), X(4,7,5,8), X(6,17,7,18), X(11,20,12,1), X(13,2,14,3), X(14,10,15,9), X(15,8,16,9), X(16,5,17,6), X(19,10,20,11)] #7_1 random 10000\n",
    "#k2 = CustomKnot([X(1,10,2,11), X(3,14,4,15), X(4,7,5,8), X(6,13,7,14), X(9,16,10,1), X(11,2,12,3), X(12,5,13,6), X(15,8,16,9)]) #7_1 random 10000 simplificado\n",
    "\n",
    "#k1 = CustomKnot([X(1,8,2,9), X(3,10,4,11), X(5,12,6,13), X(7,14,8,1), X(9,2,10,3), X(11,4,12,5), X(13,6,14,7)])# 7_1\n",
    "#k2 = CustomKnot([X(2,9,3,10), X(3,12,4,13), X(5,14,6,15), X(8,1,9,2), X(10,7,11,8), X(11,16,12,1), X(13,4,14,5), X(15,6,16,7)])# 7_1 newRandom 30 simplificado\n",
    "\n",
    "#k1 = CustomKnot([X(1,8,2,9), X(3,10,4,11), X(5,12,6,13), X(7,14,8,1), X(9,2,10,3), X(11,4,12,5), X(13,6,14,7)]) # 7_1\n",
    "#k2 = CustomKnot([X(1,10,2,11), X(4,11,5,12), X(5,2,6,3), X(7,14,8,15), X(9,16,10,1), X(12,3,13,4), X(13,6,14,7), X(15,8,16,9)])#7_1 newRandom 10000 simplificado\n",
    "\n",
    "# Este tarda mucho:\n",
    "#k1 = CustomKnot([X(1,4,2,5), X(3,8,4,9), X(5,12,6,13), X(7,2,8,3), X(9,1,10,14), X(11,6,12,7), X(13,11,14,10)]) # 7_6\n",
    "#k2 = CustomKnot([X(1,10,2,11), X(1,19,22,20), X(4,15,5,16), X(6,14,7,13), X(7,2,8,3), X(8,21,9,22), X(12,4,13,3), X(14,17,15,18), X(16,5,17,6), X(18,12,19,11), X(20,9,21,10)]) # 7_6 newRandom 10000 simplificado\n",
    "\n",
    "\n",
    "\n",
    "print(k1.crosses)\n",
    "print(k2.crosses)\n",
    "k2.reduceUnnecessaryMov()\n",
    "print(k2.crosses)\n",
    "print(k2==k1)\n"
   ]
  },
  {
   "cell_type": "code",
   "execution_count": null,
   "metadata": {},
   "outputs": [
    {
     "name": "stdout",
     "output_type": "stream",
     "text": [
      "[X(1,5,8,6), X(2,7,3,8), X(4,2,5,1), X(6,3,7,4)]\n",
      "[X(1,5,2,4), X(3,6,4,7), X(5,1,6,8), X(7,2,8,3)]\n",
      "[X(1,9,2,8), X(1,6,10,5), X(3,7,4,6), X(4,9,5,10), X(7,3,8,2)]\n",
      "k1==k2 True\n",
      "k2==k3 False\n",
      "k1==k3 False\n",
      "same k1,k2 (True, [])\n",
      "same k2,k3 (True, ['crateALoop(3,3)', 'reidemeisterIII(5,9,3,check=False)'])\n",
      "same k1,k3 (True, ['crateALoop(3,2)', 'reidemeisterIII(3,9,5,check=False)'])\n",
      "same k2,k1 (True, [])\n",
      "same k3,k2 (True, ['reidemeisterIII(1,5,9,check=False)', 'undoALoop(10)'])\n",
      "same k3,k1 (True, ['reidemeisterIII(1,5,9,check=False)', 'undoALoop(10)'])\n"
     ]
    }
   ],
   "source": [
    "#Tres proyecciones del nudo figura en 8 \n",
    "k1 = CustomKnot([X(3,8,2,7),X(7,4,6,3),X(8,6,1,5),X(5,1,4,2)])\n",
    "k2 = CustomKnot([X(6,8,5,1),X(7,2,8,3),X(3,6,4,7),X(2,4,1,5)])\n",
    "k3 = CustomKnot([X(2,8,1,9),X(7,3,8,2),X(4,6,3,7),X(4,9,5,10),X(10,5,1,6)])\n",
    "print(k1.crosses) \n",
    "print(k2.crosses) \n",
    "print(k3.crosses)\n",
    "\n",
    "print(\"k1==k2\",k1==k2)\n",
    "print(\"k2==k3\",k2==k3)\n",
    "print(\"k1==k3\",k1==k3)\n",
    "\n",
    "print(\"same k1,k2\",areSameKnots(k1,k2,100))\n",
    "print(\"same k2,k3\",areSameKnots(k2,k3,100))\n",
    "print(\"same k1,k3\",areSameKnots(k1,k3,100))\n",
    "print(\"same k2,k1\",areSameKnots(k2,k1,100))\n",
    "print(\"same k3,k2\",areSameKnots(k3,k2,100))\n",
    "print(\"same k3,k1\",areSameKnots(k3,k1,100))\n"
   ]
  },
  {
   "cell_type": "code",
   "execution_count": 4,
   "metadata": {},
   "outputs": [
    {
     "data": {
      "text/plain": [
       "<matplotlib.image.AxesImage at 0x1313b2d10>"
      ]
     },
     "execution_count": 4,
     "metadata": {},
     "output_type": "execute_result"
    },
    {
     "data": {
      "image/png": "[encoded data removed]",
      "text/plain": [
       "<Figure size 432x576 with 1 Axes>"
      ]
     },
     "metadata": {
      "needs_background": "light"
     },
     "output_type": "display_data"
    }
   ],
   "source": [
    "\n",
    "\n",
    "image = k1.image()\n",
    "fig, ax = plt.subplots(figsize=(image.shape[0]//(51*2),image.shape[1]//(51*2)))\n",
    "ax.imshow(image,cmap='gray')"
   ]
  },
  {
   "cell_type": "code",
   "execution_count": 135,
   "metadata": {},
   "outputs": [
    {
     "name": "stdout",
     "output_type": "stream",
     "text": [
      "True\n",
      "True\n",
      "True\n",
      "True\n",
      "True\n",
      "True\n",
      "True\n",
      "True\n",
      "True\n",
      "True\n",
      "True\n",
      "True\n",
      "True\n",
      "True\n",
      "Cross: [X(2,1,1,2)]\n",
      "Planar Diagrams:\n",
      "[[ 2  2  0]\n",
      " [ 2 -2  1]\n",
      " [ 0  1  1]]\n"
     ]
    },
    {
     "data": {
      "text/plain": [
       "<matplotlib.image.AxesImage at 0x17ca81510>"
      ]
     },
     "execution_count": 135,
     "metadata": {},
     "output_type": "execute_result"
    },
    {
     "data": {
      "image/png": "[encoded data removed]",
      "text/plain": [
       "<Figure size 144x144 with 1 Axes>"
      ]
     },
     "metadata": {
      "needs_background": "light"
     },
     "output_type": "display_data"
    }
   ],
   "source": [
    "#k = Knot([\n",
    "#  X(1,9,2,8),\n",
    "  #X(2,8,1,9),\n",
    "#  X(3,10,4,11), \n",
    "#  X(5,3,6,2),\n",
    "#  X(7,1,8,12), \n",
    "#  X(9,4,10,5), \n",
    "#  X(11,7,12,6)])\n",
    "#k = Knot([X(1,2,4,1),\n",
    "#         X(2,3,3,4)])\n",
    "#k = Knot([X(1,2,6,1),\n",
    "#          X(4,5,5,6),\n",
    "#          X(2,3,3,4)])\n",
    "k = CustomKnot([X(1,2,2,3),\n",
    "          X(3,4,4,5),\n",
    "          X(5,1,6,6)])\n",
    "k.rotate(1)\n",
    "\n",
    "\n",
    "k.crateALoop(2,False)\n",
    "k.crateALoop(3,False)\n",
    "k.crateALoop(2,False)\n",
    "k.crateALoop(1,False)\n",
    "k.crateALoop(2,False)\n",
    "k.crateALoop(5,False)\n",
    "k.crateALoop(7,False)\n",
    "\n",
    "\n",
    "print(k.createReidemeisterII(4,9,True))\n",
    "print(k.createReidemeisterII(14,22,True))\n",
    "print(k.createReidemeisterII(13,19,True))\n",
    "\n",
    "print(k.undoALoop(3))\n",
    "print(k.undoALoop(29))\n",
    "print(k.undoALoop(25))\n",
    "print(k.undoALoop(22))\n",
    "print(k.undoALoop(17))\n",
    "print(k.undoALoop(8))\n",
    "print(k.undoALoop(6))\n",
    "\n",
    "print(k.undoReidemeisterII(2,5))\n",
    "print(k.undoReidemeisterII(8,12))\n",
    "print(k.undoReidemeisterII(6,10))\n",
    "print(k.undoReidemeisterII(4,6))\n",
    "\n",
    "print(k)\n",
    "\n",
    "#print(k.planarDiagramZones())\n",
    "image = k.image()\n",
    "fig, ax = plt.subplots(figsize=(image.shape[0]//(51*2),image.shape[1]//(51*2)))\n",
    "ax.imshow(image,cmap='gray')\n",
    "\n",
    "\n"
   ]
  },
  {
   "cell_type": "code",
   "execution_count": null,
   "metadata": {},
   "outputs": [],
   "source": []
  },
  {
   "cell_type": "code",
   "execution_count": null,
   "metadata": {},
   "outputs": [],
   "source": []
  }
 ],
 "metadata": {
  "kernelspec": {
   "display_name": "Python 3.10.4 64-bit",
   "language": "python",
   "name": "python3"
  },
  "language_info": {
   "codemirror_mode": {
    "name": "ipython",
    "version": 3
   },
   "file_extension": ".py",
   "mimetype": "text/x-python",
   "name": "python",
   "nbconvert_exporter": "python",
   "pygments_lexer": "ipython3",
   "version": "3.10.4"
  },
  "orig_nbformat": 4,
  "vscode": {
   "interpreter": {
    "hash": "aee8b7b246df8f9039afb4144a1f6fd8d2ca17a180786b69acc140d282b71a49"
   }
  }
 },
 "nbformat": 4,
 "nbformat_minor": 2
}
